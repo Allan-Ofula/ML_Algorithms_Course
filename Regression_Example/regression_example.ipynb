{
 "cells": [
  {
   "attachments": {},
   "cell_type": "markdown",
   "metadata": {},
   "source": [
    "# ML Algorithms - Regression Example\n",
    "\n",
    "## Business Problem\n",
    "\n",
    "For this example, we are trying to predict how much an individual customer will spend during a black Friday sale. This type of modeling is particularly useful for pricing campaigns and creating deals for specific customers. \n",
    "\n",
    "### Import Libraries"
   ]
  },
  {
   "cell_type": "code",
   "execution_count": 1,
   "metadata": {},
   "outputs": [],
   "source": [
    "import pandas as pd \n",
    "import numpy as np \n",
    "from sklearn.model_selection import cross_val_score, train_test_split\n",
    "from sklearn.impute import SimpleImputer\n",
    "from sklearn.compose import ColumnTransformer\n",
    "from sklearn.model_selection import GridSearchCV"
   ]
  },
  {
   "cell_type": "markdown",
   "metadata": {},
   "source": [
    "### Load Data"
   ]
  },
  {
   "cell_type": "code",
   "execution_count": 2,
   "metadata": {},
   "outputs": [],
   "source": [
    "df = pd.read_csv('train.csv')"
   ]
  },
  {
   "cell_type": "code",
   "execution_count": 3,
   "metadata": {},
   "outputs": [
    {
     "data": {
      "text/html": [
       "<div>\n",
       "<style scoped>\n",
       "    .dataframe tbody tr th:only-of-type {\n",
       "        vertical-align: middle;\n",
       "    }\n",
       "\n",
       "    .dataframe tbody tr th {\n",
       "        vertical-align: top;\n",
       "    }\n",
       "\n",
       "    .dataframe thead th {\n",
       "        text-align: right;\n",
       "    }\n",
       "</style>\n",
       "<table border=\"1\" class=\"dataframe\">\n",
       "  <thead>\n",
       "    <tr style=\"text-align: right;\">\n",
       "      <th></th>\n",
       "      <th>User_ID</th>\n",
       "      <th>Product_ID</th>\n",
       "      <th>Gender</th>\n",
       "      <th>Age</th>\n",
       "      <th>Occupation</th>\n",
       "      <th>City_Category</th>\n",
       "      <th>Stay_In_Current_City_Years</th>\n",
       "      <th>Marital_Status</th>\n",
       "      <th>Product_Category_1</th>\n",
       "      <th>Product_Category_2</th>\n",
       "      <th>Product_Category_3</th>\n",
       "      <th>Purchase</th>\n",
       "    </tr>\n",
       "  </thead>\n",
       "  <tbody>\n",
       "    <tr>\n",
       "      <th>0</th>\n",
       "      <td>1000001</td>\n",
       "      <td>P00069042</td>\n",
       "      <td>F</td>\n",
       "      <td>0-17</td>\n",
       "      <td>10</td>\n",
       "      <td>A</td>\n",
       "      <td>2</td>\n",
       "      <td>0</td>\n",
       "      <td>3</td>\n",
       "      <td>NaN</td>\n",
       "      <td>NaN</td>\n",
       "      <td>8370</td>\n",
       "    </tr>\n",
       "    <tr>\n",
       "      <th>1</th>\n",
       "      <td>1000001</td>\n",
       "      <td>P00248942</td>\n",
       "      <td>F</td>\n",
       "      <td>0-17</td>\n",
       "      <td>10</td>\n",
       "      <td>A</td>\n",
       "      <td>2</td>\n",
       "      <td>0</td>\n",
       "      <td>1</td>\n",
       "      <td>6.0</td>\n",
       "      <td>14.0</td>\n",
       "      <td>15200</td>\n",
       "    </tr>\n",
       "    <tr>\n",
       "      <th>2</th>\n",
       "      <td>1000001</td>\n",
       "      <td>P00087842</td>\n",
       "      <td>F</td>\n",
       "      <td>0-17</td>\n",
       "      <td>10</td>\n",
       "      <td>A</td>\n",
       "      <td>2</td>\n",
       "      <td>0</td>\n",
       "      <td>12</td>\n",
       "      <td>NaN</td>\n",
       "      <td>NaN</td>\n",
       "      <td>1422</td>\n",
       "    </tr>\n",
       "    <tr>\n",
       "      <th>3</th>\n",
       "      <td>1000001</td>\n",
       "      <td>P00085442</td>\n",
       "      <td>F</td>\n",
       "      <td>0-17</td>\n",
       "      <td>10</td>\n",
       "      <td>A</td>\n",
       "      <td>2</td>\n",
       "      <td>0</td>\n",
       "      <td>12</td>\n",
       "      <td>14.0</td>\n",
       "      <td>NaN</td>\n",
       "      <td>1057</td>\n",
       "    </tr>\n",
       "    <tr>\n",
       "      <th>4</th>\n",
       "      <td>1000002</td>\n",
       "      <td>P00285442</td>\n",
       "      <td>M</td>\n",
       "      <td>55+</td>\n",
       "      <td>16</td>\n",
       "      <td>C</td>\n",
       "      <td>4+</td>\n",
       "      <td>0</td>\n",
       "      <td>8</td>\n",
       "      <td>NaN</td>\n",
       "      <td>NaN</td>\n",
       "      <td>7969</td>\n",
       "    </tr>\n",
       "  </tbody>\n",
       "</table>\n",
       "</div>"
      ],
      "text/plain": [
       "   User_ID Product_ID Gender   Age  Occupation City_Category  \\\n",
       "0  1000001  P00069042      F  0-17          10             A   \n",
       "1  1000001  P00248942      F  0-17          10             A   \n",
       "2  1000001  P00087842      F  0-17          10             A   \n",
       "3  1000001  P00085442      F  0-17          10             A   \n",
       "4  1000002  P00285442      M   55+          16             C   \n",
       "\n",
       "  Stay_In_Current_City_Years  Marital_Status  Product_Category_1  \\\n",
       "0                          2               0                   3   \n",
       "1                          2               0                   1   \n",
       "2                          2               0                  12   \n",
       "3                          2               0                  12   \n",
       "4                         4+               0                   8   \n",
       "\n",
       "   Product_Category_2  Product_Category_3  Purchase  \n",
       "0                 NaN                 NaN      8370  \n",
       "1                 6.0                14.0     15200  \n",
       "2                 NaN                 NaN      1422  \n",
       "3                14.0                 NaN      1057  \n",
       "4                 NaN                 NaN      7969  "
      ]
     },
     "execution_count": 3,
     "metadata": {},
     "output_type": "execute_result"
    }
   ],
   "source": [
    "df.head()"
   ]
  },
  {
   "cell_type": "code",
   "execution_count": 4,
   "metadata": {},
   "outputs": [
    {
     "data": {
      "text/plain": [
       "26-35    219587\n",
       "36-45    110013\n",
       "18-25     99660\n",
       "46-50     45701\n",
       "51-55     38501\n",
       "55+       21504\n",
       "0-17      15102\n",
       "Name: Age, dtype: int64"
      ]
     },
     "execution_count": 4,
     "metadata": {},
     "output_type": "execute_result"
    }
   ],
   "source": [
    "df.Age.value_counts()"
   ]
  },
  {
   "cell_type": "markdown",
   "metadata": {},
   "source": [
    "## Data Preprocessing\n",
    "\n",
    "In this section, we need to fix a few of the following columns:\n",
    "\n",
    "**Occupation**: convert to categorical\n",
    "\n",
    "**Maritial_status**: convert to categorical\n",
    "\n",
    "**product_categories**: convert to categorical\n",
    "\n",
    "**Stay_In_Current_City_Years**: convert to numeric\n",
    "\n",
    "**Age**: Format the age"
   ]
  },
  {
   "cell_type": "code",
   "execution_count": null,
   "metadata": {},
   "outputs": [],
   "source": [
    "#change to categorical from numeric \n",
    "df.Occupation = pd.Categorical(df['Occupation'])\n",
    "df.Marital_Status = pd.Categorical(df['Marital_Status'])\n",
    "df.Product_Category_1 = pd.Categorical(df['Product_Category_1'])\n",
    "df.Product_Category_2 = pd.Categorical(df['Product_Category_2'])\n",
    "df.Product_Category_3 = pd.Categorical(df['Product_Category_3'])\n",
    "\n",
    "#change to numeric \n",
    "df.Stay_In_Current_City_Years = df.Stay_In_Current_City_Years.str.replace('+','').astype(int)\n",
    "\n",
    "\n",
    "# fix age \n",
    "def random_age_replace(df_in,old_col,new_col):\n",
    "    np.random.seed(1)\n",
    "    df_out = df_in.copy()\n",
    "    df_out[new_col] = df_out[old_col]\n",
    "    vals = df_out[old_col].value_counts() \n",
    "    for i in vals.index:\n",
    "        if len(i.split('-')) > 1:\n",
    "            low = int(i.split('-')[0])\n",
    "            high = int(i.split('-')[1])\n",
    "            size = df_out[df_out[new_col] == i].shape[0]\n",
    "            df_out.loc[df_out[old_col] == i, new_col] = np.random.randint(low,high,size)\n",
    "        else:\n",
    "            size = df_out[df_out[new_col] == i].shape[0]\n",
    "            df_out.loc[df_out[old_col] == i, new_col] = np.random.randint(55,90,size)\n",
    "    return df_out\n",
    "\n",
    "df = random_age_replace(df,'Age','New_Age')\n",
    "df.New_Age = df.New_Age.astype(int)\n"
   ]
  },
  {
   "cell_type": "markdown",
   "metadata": {},
   "source": [
    "## Exploratory Data Analysis"
   ]
  },
  {
   "cell_type": "code",
   "execution_count": 6,
   "metadata": {
    "scrolled": true
   },
   "outputs": [
    {
     "data": {
      "text/plain": [
       "<Axes: >"
      ]
     },
     "execution_count": 6,
     "metadata": {},
     "output_type": "execute_result"
    },
    {
     "data": {
      "image/png": "[encoded data removed]",
      "text/plain": [
       "<Figure size 640x480 with 1 Axes>"
      ]
     },
     "metadata": {},
     "output_type": "display_data"
    }
   ],
   "source": [
    "df.Purchase.hist()"
   ]
  },
  {
   "cell_type": "code",
   "execution_count": 7,
   "metadata": {},
   "outputs": [
    {
     "data": {
      "text/plain": [
       "<Axes: >"
      ]
     },
     "execution_count": 7,
     "metadata": {},
     "output_type": "execute_result"
    },
    {
     "data": {
      "image/png": "[encoded data removed]",
      "text/plain": [
       "<Figure size 640x480 with 1 Axes>"
      ]
     },
     "metadata": {},
     "output_type": "display_data"
    }
   ],
   "source": [
    "df.boxplot(column=['New_Age'])  "
   ]
  },
  {
   "cell_type": "code",
   "execution_count": 8,
   "metadata": {},
   "outputs": [
    {
     "data": {
      "text/plain": [
       "User_ID                       0.000000\n",
       "Product_ID                    0.000000\n",
       "Gender                        0.000000\n",
       "Age                           0.000000\n",
       "Occupation                    0.000000\n",
       "City_Category                 0.000000\n",
       "Stay_In_Current_City_Years    0.000000\n",
       "Marital_Status                0.000000\n",
       "Product_Category_1            0.000000\n",
       "Product_Category_2            0.315666\n",
       "Product_Category_3            0.696727\n",
       "Purchase                      0.000000\n",
       "New_Age                       0.000000\n",
       "dtype: float64"
      ]
     },
     "execution_count": 8,
     "metadata": {},
     "output_type": "execute_result"
    }
   ],
   "source": [
    "df.isnull().sum()/df.shape[0]"
   ]
  },
  {
   "cell_type": "code",
   "execution_count": 9,
   "metadata": {},
   "outputs": [],
   "source": [
    "### data manipulation for each type of model \n",
    "## Linear Regression\n",
    "    # No missing values \n",
    "    # Remove outliers \n",
    "# Ridge\n",
    "# Lasso \n",
    "# Elastic Net \n",
    "## KNN \n",
    "    # feature scaling \n",
    "    # Imputation \n",
    "## SVM\n",
    "    # Remove Outliers \n",
    "    # Remove missing values \n",
    "    # Scaling \n",
    "## Decision Tree\n",
    "## Random Forest\n",
    "## Gradient Boosted Tree\n",
    "## XG Boost\n",
    "## ANN  \n",
    "    # Imputation \n",
    "    # scaling\n",
    "    \n",
    "# fix scaling / avoid leakage --> pipelines? "
   ]
  },
  {
   "cell_type": "markdown",
   "metadata": {},
   "source": [
    "# Data Preprocessing\n",
    "(1) Data imputation\n",
    "\n",
    "(2) Imputing & Outlier Removal \n",
    "\n",
    "(3) Imputing and Scaling\n",
    "\n",
    "(4) Imputing, Scaling, and Outlier Removal "
   ]
  },
  {
   "cell_type": "code",
   "execution_count": 10,
   "metadata": {},
   "outputs": [
    {
     "data": {
      "text/plain": [
       "Index(['User_ID', 'Product_ID', 'Gender', 'Age', 'Occupation', 'City_Category',\n",
       "       'Stay_In_Current_City_Years', 'Marital_Status', 'Product_Category_1',\n",
       "       'Product_Category_2', 'Product_Category_3', 'Purchase', 'New_Age'],\n",
       "      dtype='object')"
      ]
     },
     "execution_count": 10,
     "metadata": {},
     "output_type": "execute_result"
    }
   ],
   "source": [
    "df.columns"
   ]
  },
  {
   "cell_type": "code",
   "execution_count": null,
   "metadata": {},
   "outputs": [],
   "source": [
    "# Fill imputed categories with value indicating it is nan - 21\n",
    "from sklearn.impute import SimpleImputer\n",
    "from sklearn.compose import ColumnTransformer\n",
    "\n",
    "cols_to_impute = ['Product_Category_1',\n",
    "                  'Product_Category_2',\n",
    "                  'Product_Category_3']\n",
    "\n",
    "cols_to_category = ['Gender',\n",
    "                    'Occupation',\n",
    "                    'City_Category',\n",
    "                    'Marital_Status',\n",
    "                    'Product_Category_1',\n",
    "                    'Product_Category_2',\n",
    "                    'Product_Category_3']\n",
    "\n",
    "cols_to_scale = ['New_Age',\n",
    "                 'Stay_In_Current_City_Years']"
   ]
  },
  {
   "cell_type": "markdown",
   "metadata": {},
   "source": [
    "### Impute NaN's "
   ]
  },
  {
   "cell_type": "code",
   "execution_count": null,
   "metadata": {},
   "outputs": [],
   "source": [
    "categorical_imputer = SimpleImputer(strategy='constant', fill_value=21)\n",
    "\n",
    "impute_preprocessor = ColumnTransformer(\n",
    "    transformers=[\n",
    "        ('cat_impute', categorical_imputer, cols_to_impute),\n",
    "    ],remainder = 'passthrough',\n",
    "    verbose_feature_names_out= False).set_output(transform='pandas')"
   ]
  },
  {
   "cell_type": "markdown",
   "metadata": {},
   "source": [
    "### Convert Numeric to Categorical"
   ]
  },
  {
   "cell_type": "code",
   "execution_count": null,
   "metadata": {},
   "outputs": [],
   "source": [
    "from sklearn.preprocessing import FunctionTransformer\n",
    "\n",
    "def to_category(x):\n",
    "    return pd.DataFrame(x).astype(\"category\")\n",
    "\n",
    "to_category = FunctionTransformer(to_category)\n",
    "\n",
    "category_preprocessor = ColumnTransformer(\n",
    "    transformers=[\n",
    "        ('cat_trans', to_category, cols_to_category),\n",
    "    ],remainder = 'passthrough', verbose_feature_names_out= False).set_output(transform='pandas')\n",
    "\n"
   ]
  },
  {
   "cell_type": "markdown",
   "metadata": {},
   "source": [
    "### Outlier Removal"
   ]
  },
  {
   "cell_type": "code",
   "execution_count": null,
   "metadata": {},
   "outputs": [],
   "source": [
    "import scipy.stats\n",
    "#adjust for X & Y \n",
    "\n",
    "def z_score_removal(X,y, columns, z_score):\n",
    "    df = pd.concat([X, y], axis=1)\n",
    "    col_df = df[columns]    \n",
    "    z_scores = scipy.stats.zscore(col_df).abs()\n",
    "    outliers = (z_scores.max(axis=1) > z_score)\n",
    "    df_out = df[~outliers]\n",
    "    X_cleaned = df_out[X.columns]\n",
    "    y_cleaned = df_out.drop(X.columns, axis =1)\n",
    "    return X_cleaned, y_cleaned"
   ]
  },
  {
   "cell_type": "markdown",
   "metadata": {},
   "source": [
    "## Feature Engineering\n",
    "\n",
    "### Feature Scaling"
   ]
  },
  {
   "cell_type": "code",
   "execution_count": null,
   "metadata": {},
   "outputs": [],
   "source": [
    "from sklearn.preprocessing import MinMaxScaler\n",
    "scaler = MinMaxScaler()\n",
    "\n",
    "\n",
    "scaling_preprocessor = ColumnTransformer(\n",
    "    transformers=[\n",
    "        ('min_max', scaler, cols_to_scale),\n",
    "    ],remainder = 'passthrough', verbose_feature_names_out= False).set_output(transform='pandas')\n",
    "  "
   ]
  },
  {
   "cell_type": "markdown",
   "metadata": {},
   "source": [
    "### Dummy Variables"
   ]
  },
  {
   "cell_type": "code",
   "execution_count": null,
   "metadata": {},
   "outputs": [],
   "source": [
    "# Get Dummy variables \n",
    "from sklearn.preprocessing import OneHotEncoder\n",
    "oh_encoder = OneHotEncoder(sparse_output=False, drop='first',handle_unknown='ignore')\n",
    "onehot_preprocessor = ColumnTransformer(\n",
    "    transformers=[\n",
    "        ('onehot', oh_encoder, cols_to_category),\n",
    "    ],remainder = 'passthrough', verbose_feature_names_out= False).set_output(transform='pandas')\n",
    "  "
   ]
  },
  {
   "cell_type": "markdown",
   "metadata": {},
   "source": [
    "## Cross-Validation"
   ]
  },
  {
   "cell_type": "code",
   "execution_count": null,
   "metadata": {},
   "outputs": [],
   "source": [
    "# Only remove outliers from the training set\n",
    "X_Reg_fin, y_reg_fin = z_score_removal(X_Reg,y_train,['New_Age','Purchase'],2)"
   ]
  },
  {
   "cell_type": "code",
   "execution_count": 11,
   "metadata": {},
   "outputs": [],
   "source": [
    "#create train/ test split \n",
    "X = df.drop(['User_ID','Product_ID','Age','Purchase'], axis=1)\n",
    "y = df.loc[:,'Purchase']\n",
    "\n",
    "X_train, X_test, y_train, y_test = train_test_split(X, y, test_size=0.2, random_state=42)\n"
   ]
  },
  {
   "cell_type": "code",
   "execution_count": 18,
   "metadata": {},
   "outputs": [],
   "source": [
    "#########Data Impuation & Outlier Removal (Linear Regression) ###############\n",
    "#outlier removal function\n",
    "\n",
    "from sklearn.pipeline import Pipeline\n",
    "\n",
    "reg_pipe = Pipeline([\n",
    "    ('impute_trans', impute_preprocessor),\n",
    "    ('categorical_trans', category_preprocessor),\n",
    "    ('onehot', onehot_preprocessor)\n",
    "])\n",
    "\n",
    "X_Reg = reg_pipe.fit_transform(X_train)\n"
   ]
  },
  {
   "cell_type": "markdown",
   "metadata": {},
   "source": [
    "## Modeling\n",
    "\n",
    "### Linear Regression"
   ]
  },
  {
   "cell_type": "code",
   "execution_count": 21,
   "metadata": {},
   "outputs": [],
   "source": [
    "#running linear regression\n",
    "import statsmodels.api as sm\n",
    "\n",
    "sm_X = sm.add_constant(X_Reg_fin)\n",
    "sm_model_lr = sm.OLS(y_reg_fin, sm_X).fit()"
   ]
  },
  {
   "cell_type": "code",
   "execution_count": 22,
   "metadata": {},
   "outputs": [
    {
     "name": "stdout",
     "output_type": "stream",
     "text": [
      "                            OLS Regression Results                            \n",
      "==============================================================================\n",
      "Dep. Variable:               Purchase   R-squared:                       0.619\n",
      "Model:                            OLS   Adj. R-squared:                  0.619\n",
      "Method:                 Least Squares   F-statistic:                     8401.\n",
      "Date:                Tue, 21 Mar 2023   Prob (F-statistic):               0.00\n",
      "Time:                        07:17:00   Log-Likelihood:            -3.7158e+06\n",
      "No. Observations:              398046   AIC:                         7.432e+06\n",
      "Df Residuals:                  397968   BIC:                         7.433e+06\n",
      "Df Model:                          77                                         \n",
      "Covariance Type:            nonrobust                                         \n",
      "==============================================================================================\n",
      "                                 coef    std err          t      P>|t|      [0.025      0.975]\n",
      "----------------------------------------------------------------------------------------------\n",
      "const                       1.249e+04    136.494     91.513      0.000    1.22e+04    1.28e+04\n",
      "Gender_M                     -49.5079     10.584     -4.677      0.000     -70.253     -28.763\n",
      "Occupation_1                 -24.6776     19.285     -1.280      0.201     -62.476      13.121\n",
      "Occupation_2                   4.9395     23.031      0.214      0.830     -40.201      50.080\n",
      "Occupation_3                 181.2093     27.124      6.681      0.000     128.047     234.372\n",
      "Occupation_4                 123.8414     17.445      7.099      0.000      89.649     158.034\n",
      "Occupation_5                  46.7189     30.929      1.510      0.131     -13.902     107.340\n",
      "Occupation_6                 194.1100     25.635      7.572      0.000     143.866     244.354\n",
      "Occupation_7                  88.7673     18.036      4.922      0.000      53.417     124.118\n",
      "Occupation_8                -190.9228     85.236     -2.240      0.025    -357.983     -23.863\n",
      "Occupation_9                 144.4658     42.438      3.404      0.001      61.288     227.644\n",
      "Occupation_10                115.3606     40.305      2.862      0.004      36.364     194.357\n",
      "Occupation_11                 81.5086     31.907      2.555      0.011      18.973     144.044\n",
      "Occupation_12                259.5161     21.776     11.917      0.000     216.835     302.197\n",
      "Occupation_13                 15.6060     54.753      0.285      0.776     -91.708     122.920\n",
      "Occupation_14                198.8634     22.970      8.658      0.000     153.843     243.884\n",
      "Occupation_15                327.7555     31.687     10.344      0.000     265.650     389.861\n",
      "Occupation_16                161.0255     23.846      6.753      0.000     114.289     207.762\n",
      "Occupation_17                197.6668     20.264      9.754      0.000     157.950     237.384\n",
      "Occupation_18                 58.6330     40.582      1.445      0.149     -20.906     138.172\n",
      "Occupation_19               -319.2747     37.709     -8.467      0.000    -393.183    -245.366\n",
      "Occupation_20               -128.8519     21.195     -6.079      0.000    -170.394     -87.310\n",
      "City_Category_B              110.3013     10.697     10.311      0.000      89.335     131.267\n",
      "City_Category_C              456.6851     11.725     38.950      0.000     433.705     479.665\n",
      "Marital_Status_1             -53.5485      9.280     -5.770      0.000     -71.737     -35.360\n",
      "Product_Category_1_2.0     -1164.0317     29.122    -39.970      0.000   -1221.111   -1106.953\n",
      "Product_Category_1_3.0     -1629.9087     40.370    -40.374      0.000   -1709.033   -1550.784\n",
      "Product_Category_1_4.0     -1.029e+04     36.444   -282.354      0.000   -1.04e+04   -1.02e+04\n",
      "Product_Category_1_5.0     -6602.6665     16.377   -403.170      0.000   -6634.765   -6570.568\n",
      "Product_Category_1_6.0       813.7854     31.863     25.540      0.000     751.334     876.236\n",
      "Product_Category_1_7.0      1417.2873     65.244     21.723      0.000    1289.410    1545.165\n",
      "Product_Category_1_8.0     -5354.1690     17.383   -308.012      0.000   -5388.239   -5320.099\n",
      "Product_Category_1_9.0       995.0394    175.971      5.655      0.000     650.141    1339.937\n",
      "Product_Category_1_10.0     3867.2668     63.062     61.325      0.000    3743.668    3990.866\n",
      "Product_Category_1_11.0    -8083.2609     24.271   -333.045      0.000   -8130.831   -8035.691\n",
      "Product_Category_1_12.0    -1.148e+04     53.561   -214.279      0.000   -1.16e+04   -1.14e+04\n",
      "Product_Category_1_13.0    -1.217e+04     44.810   -271.646      0.000   -1.23e+04   -1.21e+04\n",
      "Product_Category_1_14.0      270.4167     82.394      3.282      0.001     108.928     431.905\n",
      "Product_Category_1_15.0     -310.7506     48.322     -6.431      0.000    -405.461    -216.040\n",
      "Product_Category_1_16.0      556.8362     39.016     14.272      0.000     480.366     633.306\n",
      "Product_Category_1_17.0    -2726.6714    134.044    -20.342      0.000   -2989.394   -2463.949\n",
      "Product_Category_1_18.0    -9849.1626     58.956   -167.060      0.000   -9964.714   -9733.611\n",
      "Product_Category_1_19.0    -1.287e+04     81.286   -158.289      0.000    -1.3e+04   -1.27e+04\n",
      "Product_Category_1_20.0    -1.252e+04     64.750   -193.309      0.000   -1.26e+04   -1.24e+04\n",
      "Product_Category_2_3.0      1212.7063     93.810     12.927      0.000    1028.842    1396.570\n",
      "Product_Category_2_4.0     -1524.2827     41.453    -36.771      0.000   -1605.529   -1443.036\n",
      "Product_Category_2_5.0      -584.3663     31.343    -18.644      0.000    -645.797    -522.935\n",
      "Product_Category_2_6.0        -8.3319     32.080     -0.260      0.795     -71.208      54.545\n",
      "Product_Category_2_7.0       710.7680    127.896      5.557      0.000     460.096     961.440\n",
      "Product_Category_2_8.0       253.9352     26.038      9.752      0.000     202.901     304.969\n",
      "Product_Category_2_9.0      -189.9992     48.095     -3.950      0.000    -284.264     -95.734\n",
      "Product_Category_2_10.0      980.6852     80.687     12.154      0.000     822.541    1138.829\n",
      "Product_Category_2_11.0     -369.2785     33.760    -10.938      0.000    -435.447    -303.110\n",
      "Product_Category_2_12.0     -390.4583     49.235     -7.930      0.000    -486.958    -293.958\n",
      "Product_Category_2_13.0     -179.9344     40.297     -4.465      0.000    -258.916    -100.953\n",
      "Product_Category_2_14.0     -139.3092     27.698     -5.030      0.000    -193.596     -85.023\n",
      "Product_Category_2_15.0     -201.4400     27.578     -7.304      0.000    -255.492    -147.388\n",
      "Product_Category_2_16.0      137.5357     27.993      4.913      0.000      82.671     192.400\n",
      "Product_Category_2_17.0      434.9065     36.941     11.773      0.000     362.504     507.309\n",
      "Product_Category_2_18.0      458.9521     66.611      6.890      0.000     328.397     589.507\n",
      "Product_Category_2_21.0      -31.7445     25.588     -1.241      0.215     -81.896      18.407\n",
      "Product_Category_3_4.0     -3463.6646    166.378    -20.818      0.000   -3789.761   -3137.568\n",
      "Product_Category_3_5.0       300.4036    137.740      2.181      0.029      30.438     570.369\n",
      "Product_Category_3_6.0       -53.2901    143.702     -0.371      0.711    -334.942     228.362\n",
      "Product_Category_3_8.0      1198.4934    139.039      8.620      0.000     925.980    1471.006\n",
      "Product_Category_3_9.0        73.6399    138.785      0.531      0.596    -198.374     345.653\n",
      "Product_Category_3_10.0     -711.9160    167.929     -4.239      0.000   -1041.051    -382.781\n",
      "Product_Category_3_11.0     -564.7689    154.563     -3.654      0.000    -867.707    -261.830\n",
      "Product_Category_3_12.0       37.6339    140.378      0.268      0.789    -237.503     312.771\n",
      "Product_Category_3_13.0     -651.8587    144.025     -4.526      0.000    -934.143    -369.575\n",
      "Product_Category_3_14.0     -129.8617    137.847     -0.942      0.346    -400.038     140.315\n",
      "Product_Category_3_15.0     -440.0690    136.282     -3.229      0.001    -707.177    -172.960\n",
      "Product_Category_3_16.0     -137.4694    137.190     -1.002      0.316    -406.358     131.420\n",
      "Product_Category_3_17.0      582.9555    138.756      4.201      0.000     310.997     854.914\n",
      "Product_Category_3_18.0      -73.4508    144.199     -0.509      0.610    -356.077     209.175\n",
      "Product_Category_3_21.0     -257.1478    136.277     -1.887      0.059    -524.246       9.950\n",
      "Stay_In_Current_City_Years     8.0037      3.383      2.366      0.018       1.373      14.635\n",
      "New_Age                       10.7236      0.513     20.902      0.000       9.718      11.729\n",
      "==============================================================================\n",
      "Omnibus:                    32875.465   Durbin-Watson:                   2.000\n",
      "Prob(Omnibus):                  0.000   Jarque-Bera (JB):            49730.065\n",
      "Skew:                          -0.653   Prob(JB):                         0.00\n",
      "Kurtosis:                       4.138   Cond. No.                     4.39e+03\n",
      "==============================================================================\n",
      "\n",
      "Notes:\n",
      "[1] Standard Errors assume that the covariance matrix of the errors is correctly specified.\n",
      "[2] The condition number is large, 4.39e+03. This might indicate that there are\n",
      "strong multicollinearity or other numerical problems.\n"
     ]
    }
   ],
   "source": [
    "print(sm_model_lr.summary())"
   ]
  },
  {
   "cell_type": "code",
   "execution_count": 23,
   "metadata": {},
   "outputs": [
    {
     "data": {
      "text/html": [
       "<style>#sk-container-id-1 {color: black;background-color: white;}#sk-container-id-1 pre{padding: 0;}#sk-container-id-1 div.sk-toggleable {background-color: white;}#sk-container-id-1 label.sk-toggleable__label {cursor: pointer;display: block;width: 100%;margin-bottom: 0;padding: 0.3em;box-sizing: border-box;text-align: center;}#sk-container-id-1 label.sk-toggleable__label-arrow:before {content: \"▸\";float: left;margin-right: 0.25em;color: #696969;}#sk-container-id-1 label.sk-toggleable__label-arrow:hover:before {color: black;}#sk-container-id-1 div.sk-estimator:hover label.sk-toggleable__label-arrow:before {color: black;}#sk-container-id-1 div.sk-toggleable__content {max-height: 0;max-width: 0;overflow: hidden;text-align: left;background-color: #f0f8ff;}#sk-container-id-1 div.sk-toggleable__content pre {margin: 0.2em;color: black;border-radius: 0.25em;background-color: #f0f8ff;}#sk-container-id-1 input.sk-toggleable__control:checked~div.sk-toggleable__content {max-height: 200px;max-width: 100%;overflow: auto;}#sk-container-id-1 input.sk-toggleable__control:checked~label.sk-toggleable__label-arrow:before {content: \"▾\";}#sk-container-id-1 div.sk-estimator input.sk-toggleable__control:checked~label.sk-toggleable__label {background-color: #d4ebff;}#sk-container-id-1 div.sk-label input.sk-toggleable__control:checked~label.sk-toggleable__label {background-color: #d4ebff;}#sk-container-id-1 input.sk-hidden--visually {border: 0;clip: rect(1px 1px 1px 1px);clip: rect(1px, 1px, 1px, 1px);height: 1px;margin: -1px;overflow: hidden;padding: 0;position: absolute;width: 1px;}#sk-container-id-1 div.sk-estimator {font-family: monospace;background-color: #f0f8ff;border: 1px dotted black;border-radius: 0.25em;box-sizing: border-box;margin-bottom: 0.5em;}#sk-container-id-1 div.sk-estimator:hover {background-color: #d4ebff;}#sk-container-id-1 div.sk-parallel-item::after {content: \"\";width: 100%;border-bottom: 1px solid gray;flex-grow: 1;}#sk-container-id-1 div.sk-label:hover label.sk-toggleable__label {background-color: #d4ebff;}#sk-container-id-1 div.sk-serial::before {content: \"\";position: absolute;border-left: 1px solid gray;box-sizing: border-box;top: 0;bottom: 0;left: 50%;z-index: 0;}#sk-container-id-1 div.sk-serial {display: flex;flex-direction: column;align-items: center;background-color: white;padding-right: 0.2em;padding-left: 0.2em;position: relative;}#sk-container-id-1 div.sk-item {position: relative;z-index: 1;}#sk-container-id-1 div.sk-parallel {display: flex;align-items: stretch;justify-content: center;background-color: white;position: relative;}#sk-container-id-1 div.sk-item::before, #sk-container-id-1 div.sk-parallel-item::before {content: \"\";position: absolute;border-left: 1px solid gray;box-sizing: border-box;top: 0;bottom: 0;left: 50%;z-index: -1;}#sk-container-id-1 div.sk-parallel-item {display: flex;flex-direction: column;z-index: 1;position: relative;background-color: white;}#sk-container-id-1 div.sk-parallel-item:first-child::after {align-self: flex-end;width: 50%;}#sk-container-id-1 div.sk-parallel-item:last-child::after {align-self: flex-start;width: 50%;}#sk-container-id-1 div.sk-parallel-item:only-child::after {width: 0;}#sk-container-id-1 div.sk-dashed-wrapped {border: 1px dashed gray;margin: 0 0.4em 0.5em 0.4em;box-sizing: border-box;padding-bottom: 0.4em;background-color: white;}#sk-container-id-1 div.sk-label label {font-family: monospace;font-weight: bold;display: inline-block;line-height: 1.2em;}#sk-container-id-1 div.sk-label-container {text-align: center;}#sk-container-id-1 div.sk-container {/* jupyter's `normalize.less` sets `[hidden] { display: none; }` but bootstrap.min.css set `[hidden] { display: none !important; }` so we also need the `!important` here to be able to override the default hidden behavior on the sphinx rendered scikit-learn.org. See: https://github.com/scikit-learn/scikit-learn/issues/21755 */display: inline-block !important;position: relative;}#sk-container-id-1 div.sk-text-repr-fallback {display: none;}</style><div id=\"sk-container-id-1\" class=\"sk-top-container\"><div class=\"sk-text-repr-fallback\"><pre>LinearRegression()</pre><b>In a Jupyter environment, please rerun this cell to show the HTML representation or trust the notebook. <br />On GitHub, the HTML representation is unable to render, please try loading this page with nbviewer.org.</b></div><div class=\"sk-container\" hidden><div class=\"sk-item\"><div class=\"sk-estimator sk-toggleable\"><input class=\"sk-toggleable__control sk-hidden--visually\" id=\"sk-estimator-id-1\" type=\"checkbox\" checked><label for=\"sk-estimator-id-1\" class=\"sk-toggleable__label sk-toggleable__label-arrow\">LinearRegression</label><div class=\"sk-toggleable__content\"><pre>LinearRegression()</pre></div></div></div></div></div>"
      ],
      "text/plain": [
       "LinearRegression()"
      ]
     },
     "execution_count": 23,
     "metadata": {},
     "output_type": "execute_result"
    }
   ],
   "source": [
    "from sklearn.linear_model import LinearRegression\n",
    "model_lr = LinearRegression()\n",
    "\n",
    "model_lr.fit(X_Reg_fin, y_reg_fin)"
   ]
  },
  {
   "cell_type": "code",
   "execution_count": 24,
   "metadata": {},
   "outputs": [
    {
     "name": "stdout",
     "output_type": "stream",
     "text": [
      "[-7531760.44977069 -7517331.37148732 -7500736.55293804]\n"
     ]
    }
   ],
   "source": [
    "from sklearn.model_selection import cross_val_score\n",
    "lr_scores = cross_val_score(model_lr, X_Reg_fin, y_reg_fin, cv=3, scoring='neg_mean_squared_error')\n",
    "print(lr_scores)"
   ]
  },
  {
   "cell_type": "code",
   "execution_count": 25,
   "metadata": {},
   "outputs": [],
   "source": [
    "#########Data Impuation, Outlier Removal, & Scaling (Ridge, Lasso, Elastic NEt, SVM) ###############\n",
    "rr_pipe = Pipeline([\n",
    "    ('impute_trans', impute_preprocessor),\n",
    "    ('categorical_trans', category_preprocessor),\n",
    "    ('feat_scaling', scaling_preprocessor),\n",
    "    ('onehot', onehot_preprocessor)\n",
    "])\n",
    "\n",
    "X_rr = rr_pipe.fit_transform(X_train)\n",
    "X_rr_fin, y_rr_fin = z_score_removal(X_rr,y_train,['New_Age','Purchase'],2)\n"
   ]
  },
  {
   "cell_type": "markdown",
   "metadata": {},
   "source": [
    "### Linear Regression + Regularization"
   ]
  },
  {
   "cell_type": "code",
   "execution_count": 26,
   "metadata": {},
   "outputs": [
    {
     "name": "stdout",
     "output_type": "stream",
     "text": [
      "[-7536244.25629931 -7525693.93789678 -7514241.01295135]\n",
      "[-7531639.39414882 -7517378.35287102 -7500767.35231739]\n",
      "[-16459004.42121844 -16656169.89533992 -16585809.70477886]\n"
     ]
    }
   ],
   "source": [
    "#Code for running ridge regression \n",
    "from sklearn.linear_model import Lasso, Ridge, ElasticNet \n",
    "\n",
    "lasso_model = Lasso()\n",
    "ridge_model = Ridge()\n",
    "en_model = ElasticNet() \n",
    "\n",
    "la_scores = cross_val_score(lasso_model, X_rr_fin, y_rr_fin, cv=3, scoring='neg_mean_squared_error')\n",
    "print(la_scores)\n",
    "r_scores = cross_val_score(ridge_model, X_rr_fin, y_rr_fin, cv=3, scoring='neg_mean_squared_error')\n",
    "print(r_scores)\n",
    "en_scores = cross_val_score(en_model, X_rr_fin, y_rr_fin, cv=3, scoring='neg_mean_squared_error')\n",
    "print(en_scores)"
   ]
  },
  {
   "attachments": {},
   "cell_type": "markdown",
   "metadata": {},
   "source": [
    "## Hyperparameter Tuning - Lasso and Ridge Regression\n",
    "\n",
    "L1 vs L2 Regularization: L1 regularization (Lasso) tends to produce sparse solutions, driving some coefficients to zero and performing feature selection, while L2 regularization (Ridge) produces solutions with small coefficients but does not drive them to zero, distributing the weights among correlated features.\n",
    "\n",
    "Relevant Parameters: \n",
    "- **alpha**: Regularization strength; must be a positive float. Regularization improves the conditioning of the problem and reduces the variance of the estimates. Larger values specify stronger regularization.\n",
    "- **fit_intercept**: Whether to calculate the intercept for this model. If set to False, no intercept will be used in calculations (i.e., data is expected to be centered).\n",
    "- **normalize**: This parameter is ignored when fit_intercept is set to False. If True, the regressors X will be normalized before regression by subtracting the mean and dividing by the L2-norm.\n",
    "- **max_iter**: Maximum number of iterations for conjugate gradient solver."
   ]
  },
  {
   "cell_type": "code",
   "execution_count": 27,
   "metadata": {},
   "outputs": [
    {
     "name": "stdout",
     "output_type": "stream",
     "text": [
      "Best alpha value: 1\n",
      "Best negative mean squared error: -7516742.3746946845\n",
      "Best model test R^2 score: 0.619105268744679\n"
     ]
    },
    {
     "name": "stderr",
     "output_type": "stream",
     "text": [
      "/home/kjee/.local/lib/python3.9/site-packages/sklearn/linear_model/_coordinate_descent.py:631: ConvergenceWarning: Objective did not converge. You might want to increase the number of iterations, check the scale of the features or consider increasing regularisation. Duality gap: 1.144e+12, tolerance: 6.287e+08\n",
      "  model = cd_fast.enet_coordinate_descent(\n",
      "/home/kjee/.local/lib/python3.9/site-packages/sklearn/linear_model/_coordinate_descent.py:631: ConvergenceWarning: Objective did not converge. You might want to increase the number of iterations, check the scale of the features or consider increasing regularisation. Duality gap: 1.178e+12, tolerance: 6.285e+08\n",
      "  model = cd_fast.enet_coordinate_descent(\n",
      "/home/kjee/.local/lib/python3.9/site-packages/sklearn/linear_model/_coordinate_descent.py:631: ConvergenceWarning: Objective did not converge. You might want to increase the number of iterations, check the scale of the features or consider increasing regularisation. Duality gap: 1.144e+12, tolerance: 6.279e+08\n",
      "  model = cd_fast.enet_coordinate_descent(\n",
      "/home/kjee/.local/lib/python3.9/site-packages/sklearn/linear_model/_coordinate_descent.py:631: ConvergenceWarning: Objective did not converge. You might want to increase the number of iterations, check the scale of the features or consider increasing regularisation. Duality gap: 1.154e+12, tolerance: 6.275e+08\n",
      "  model = cd_fast.enet_coordinate_descent(\n",
      "/home/kjee/.local/lib/python3.9/site-packages/sklearn/linear_model/_coordinate_descent.py:631: ConvergenceWarning: Objective did not converge. You might want to increase the number of iterations, check the scale of the features or consider increasing regularisation. Duality gap: 1.026e+12, tolerance: 6.279e+08\n",
      "  model = cd_fast.enet_coordinate_descent(\n",
      "/home/kjee/.local/lib/python3.9/site-packages/sklearn/linear_model/_coordinate_descent.py:631: ConvergenceWarning: Objective did not converge. You might want to increase the number of iterations, check the scale of the features or consider increasing regularisation. Duality gap: 8.042e+11, tolerance: 6.287e+08\n",
      "  model = cd_fast.enet_coordinate_descent(\n",
      "/home/kjee/.local/lib/python3.9/site-packages/sklearn/linear_model/_coordinate_descent.py:631: ConvergenceWarning: Objective did not converge. You might want to increase the number of iterations, check the scale of the features or consider increasing regularisation. Duality gap: 1.025e+12, tolerance: 6.285e+08\n",
      "  model = cd_fast.enet_coordinate_descent(\n",
      "/home/kjee/.local/lib/python3.9/site-packages/sklearn/linear_model/_coordinate_descent.py:631: ConvergenceWarning: Objective did not converge. You might want to increase the number of iterations, check the scale of the features or consider increasing regularisation. Duality gap: 7.868e+11, tolerance: 6.279e+08\n",
      "  model = cd_fast.enet_coordinate_descent(\n",
      "/home/kjee/.local/lib/python3.9/site-packages/sklearn/linear_model/_coordinate_descent.py:631: ConvergenceWarning: Objective did not converge. You might want to increase the number of iterations, check the scale of the features or consider increasing regularisation. Duality gap: 8.608e+11, tolerance: 6.275e+08\n",
      "  model = cd_fast.enet_coordinate_descent(\n",
      "/home/kjee/.local/lib/python3.9/site-packages/sklearn/linear_model/_coordinate_descent.py:631: ConvergenceWarning: Objective did not converge. You might want to increase the number of iterations, check the scale of the features or consider increasing regularisation. Duality gap: 3.694e+11, tolerance: 6.279e+08\n",
      "  model = cd_fast.enet_coordinate_descent(\n",
      "/home/kjee/.local/lib/python3.9/site-packages/sklearn/linear_model/_coordinate_descent.py:631: ConvergenceWarning: Objective did not converge. You might want to increase the number of iterations, check the scale of the features or consider increasing regularisation. Duality gap: 1.148e+11, tolerance: 6.287e+08\n",
      "  model = cd_fast.enet_coordinate_descent(\n",
      "/home/kjee/.local/lib/python3.9/site-packages/sklearn/linear_model/_coordinate_descent.py:631: ConvergenceWarning: Objective did not converge. You might want to increase the number of iterations, check the scale of the features or consider increasing regularisation. Duality gap: 3.550e+11, tolerance: 6.285e+08\n",
      "  model = cd_fast.enet_coordinate_descent(\n",
      "/home/kjee/.local/lib/python3.9/site-packages/sklearn/linear_model/_coordinate_descent.py:631: ConvergenceWarning: Objective did not converge. You might want to increase the number of iterations, check the scale of the features or consider increasing regularisation. Duality gap: 8.692e+10, tolerance: 6.279e+08\n",
      "  model = cd_fast.enet_coordinate_descent(\n",
      "/home/kjee/.local/lib/python3.9/site-packages/sklearn/linear_model/_coordinate_descent.py:631: ConvergenceWarning: Objective did not converge. You might want to increase the number of iterations, check the scale of the features or consider increasing regularisation. Duality gap: 1.462e+11, tolerance: 6.275e+08\n",
      "  model = cd_fast.enet_coordinate_descent(\n",
      "/home/kjee/.local/lib/python3.9/site-packages/sklearn/linear_model/_coordinate_descent.py:631: ConvergenceWarning: Objective did not converge. You might want to increase the number of iterations, check the scale of the features or consider increasing regularisation. Duality gap: 1.636e+10, tolerance: 6.279e+08\n",
      "  model = cd_fast.enet_coordinate_descent(\n",
      "/home/kjee/.local/lib/python3.9/site-packages/sklearn/linear_model/_coordinate_descent.py:631: ConvergenceWarning: Objective did not converge. You might want to increase the number of iterations, check the scale of the features or consider increasing regularisation. Duality gap: 1.595e+09, tolerance: 6.287e+08\n",
      "  model = cd_fast.enet_coordinate_descent(\n",
      "/home/kjee/.local/lib/python3.9/site-packages/sklearn/linear_model/_coordinate_descent.py:631: ConvergenceWarning: Objective did not converge. You might want to increase the number of iterations, check the scale of the features or consider increasing regularisation. Duality gap: 5.248e+09, tolerance: 6.285e+08\n",
      "  model = cd_fast.enet_coordinate_descent(\n",
      "/home/kjee/.local/lib/python3.9/site-packages/sklearn/linear_model/_coordinate_descent.py:631: ConvergenceWarning: Objective did not converge. You might want to increase the number of iterations, check the scale of the features or consider increasing regularisation. Duality gap: 1.043e+09, tolerance: 6.275e+08\n",
      "  model = cd_fast.enet_coordinate_descent(\n"
     ]
    },
    {
     "name": "stdout",
     "output_type": "stream",
     "text": [
      "Best alpha value: 0.01\n",
      "Best negative mean squared error: -7516693.501085868\n",
      "Best model test R^2 score: 0.6191051558281523\n"
     ]
    }
   ],
   "source": [
    "from sklearn.model_selection import GridSearchCV\n",
    "\n",
    "alpha_values = [1e-5, 1e-4, 1e-3, 1e-2, 1e-1, 1, 10, 100, 1000, 10000]\n",
    "\n",
    "param_grid = {'alpha': alpha_values}\n",
    "grid_search_ridge = GridSearchCV(ridge_model, param_grid, cv=5, scoring='neg_mean_squared_error')\n",
    "grid_search_ridge.fit(X_rr_fin, y_rr_fin)\n",
    "test_score_ridge = grid_search_ridge.best_estimator_.score(X_rr_fin, y_rr_fin)\n",
    "\n",
    "\n",
    "print(f\"Best alpha value: {grid_search_ridge.best_params_['alpha']}\")\n",
    "print(f\"Best negative mean squared error: {grid_search_ridge.best_score_}\")\n",
    "print(f\"Best model test R^2 score: {test_score_ridge}\")\n",
    "\n",
    "\n",
    "param_grid = {'alpha': alpha_values}\n",
    "grid_search_lasso = GridSearchCV(lasso_model, param_grid, cv=5, scoring='neg_mean_squared_error')\n",
    "grid_search_lasso.fit(X_rr_fin, y_rr_fin)\n",
    "test_score_lasso = grid_search_lasso.best_estimator_.score(X_rr_fin, y_rr_fin)\n",
    "\n",
    "print(f\"Best alpha value: {grid_search_lasso.best_params_['alpha']}\")\n",
    "print(f\"Best negative mean squared error: {grid_search_lasso.best_score_}\")\n",
    "print(f\"Best model test R^2 score: {test_score_lasso}\")\n",
    "\n"
   ]
  },
  {
   "attachments": {},
   "cell_type": "markdown",
   "metadata": {},
   "source": [
    "## Hyperparameter Tuning - Elastic Net Regression\n",
    "\n",
    "Elastic Net Regression is a linear regression model that combines L1 and L2 regularization, balancing the sparsity-inducing property of Lasso and the smoothness of Ridge Regression. It is particularly useful when there are multiple correlated features in the dataset.\n",
    "\n",
    "Relevant Parameters:\n",
    "\n",
    "- **alpha**: Regularization strength; must be a positive float. Regularization improves the conditioning of the problem and reduces the variance of the estimates. Larger values specify stronger regularization. `alpha` is the combined weight of both L1 and L2 regularization terms.\n",
    "- **l1_ratio**: The mixing parameter between L1 and L2 regularization, with a value between 0 and 1. A value of 0 corresponds to Ridge Regression (pure L2 penalty), and a value of 1 corresponds to Lasso Regression (pure L1 penalty). Values between 0 and 1 give a mix of both L1 and L2 regularization.\n",
    "- **fit_intercept**: Whether to calculate the intercept for this model. If set to False, no intercept will be used in calculations (i.e., data is expected to be centered).\n",
    "- **normalize**: This parameter is ignored when fit_intercept is set to False. If True, the regressors X will be normalized before regression by subtracting the mean and dividing by the L2-norm.\n",
    "- **max_iter**: Maximum number of iterations for the coordinate descent solver.\n",
    "\n",
    "By tuning `alpha` and `l1_ratio`, you can control the balance between L1 and L2 regularization and find the optimal trade-off for your specific problem."
   ]
  },
  {
   "cell_type": "code",
   "execution_count": 28,
   "metadata": {},
   "outputs": [
    {
     "name": "stderr",
     "output_type": "stream",
     "text": [
      "/home/kjee/.local/lib/python3.9/site-packages/sklearn/linear_model/_coordinate_descent.py:631: ConvergenceWarning: Objective did not converge. You might want to increase the number of iterations, check the scale of the features or consider increasing regularisation. Duality gap: 1.196e+12, tolerance: 6.287e+08 Linear regression models with null weight for the l1 regularization term are more efficiently fitted using one of the solvers implemented in sklearn.linear_model.Ridge/RidgeCV instead.\n",
      "  model = cd_fast.enet_coordinate_descent(\n",
      "/home/kjee/.local/lib/python3.9/site-packages/sklearn/linear_model/_coordinate_descent.py:631: ConvergenceWarning: Objective did not converge. You might want to increase the number of iterations, check the scale of the features or consider increasing regularisation. Duality gap: 1.199e+12, tolerance: 6.285e+08 Linear regression models with null weight for the l1 regularization term are more efficiently fitted using one of the solvers implemented in sklearn.linear_model.Ridge/RidgeCV instead.\n",
      "  model = cd_fast.enet_coordinate_descent(\n",
      "/home/kjee/.local/lib/python3.9/site-packages/sklearn/linear_model/_coordinate_descent.py:631: ConvergenceWarning: Objective did not converge. You might want to increase the number of iterations, check the scale of the features or consider increasing regularisation. Duality gap: 1.198e+12, tolerance: 6.279e+08 Linear regression models with null weight for the l1 regularization term are more efficiently fitted using one of the solvers implemented in sklearn.linear_model.Ridge/RidgeCV instead.\n",
      "  model = cd_fast.enet_coordinate_descent(\n",
      "/home/kjee/.local/lib/python3.9/site-packages/sklearn/linear_model/_coordinate_descent.py:631: ConvergenceWarning: Objective did not converge. You might want to increase the number of iterations, check the scale of the features or consider increasing regularisation. Duality gap: 1.196e+12, tolerance: 6.275e+08 Linear regression models with null weight for the l1 regularization term are more efficiently fitted using one of the solvers implemented in sklearn.linear_model.Ridge/RidgeCV instead.\n",
      "  model = cd_fast.enet_coordinate_descent(\n",
      "/home/kjee/.local/lib/python3.9/site-packages/sklearn/linear_model/_coordinate_descent.py:631: ConvergenceWarning: Objective did not converge. You might want to increase the number of iterations, check the scale of the features or consider increasing regularisation. Duality gap: 1.199e+12, tolerance: 6.279e+08 Linear regression models with null weight for the l1 regularization term are more efficiently fitted using one of the solvers implemented in sklearn.linear_model.Ridge/RidgeCV instead.\n",
      "  model = cd_fast.enet_coordinate_descent(\n",
      "/home/kjee/.local/lib/python3.9/site-packages/sklearn/linear_model/_coordinate_descent.py:631: ConvergenceWarning: Objective did not converge. You might want to increase the number of iterations, check the scale of the features or consider increasing regularisation. Duality gap: 1.186e+12, tolerance: 6.287e+08\n",
      "  model = cd_fast.enet_coordinate_descent(\n",
      "/home/kjee/.local/lib/python3.9/site-packages/sklearn/linear_model/_coordinate_descent.py:631: ConvergenceWarning: Objective did not converge. You might want to increase the number of iterations, check the scale of the features or consider increasing regularisation. Duality gap: 1.195e+12, tolerance: 6.285e+08\n",
      "  model = cd_fast.enet_coordinate_descent(\n",
      "/home/kjee/.local/lib/python3.9/site-packages/sklearn/linear_model/_coordinate_descent.py:631: ConvergenceWarning: Objective did not converge. You might want to increase the number of iterations, check the scale of the features or consider increasing regularisation. Duality gap: 1.188e+12, tolerance: 6.279e+08\n",
      "  model = cd_fast.enet_coordinate_descent(\n",
      "/home/kjee/.local/lib/python3.9/site-packages/sklearn/linear_model/_coordinate_descent.py:631: ConvergenceWarning: Objective did not converge. You might want to increase the number of iterations, check the scale of the features or consider increasing regularisation. Duality gap: 1.189e+12, tolerance: 6.275e+08\n",
      "  model = cd_fast.enet_coordinate_descent(\n",
      "/home/kjee/.local/lib/python3.9/site-packages/sklearn/linear_model/_coordinate_descent.py:631: ConvergenceWarning: Objective did not converge. You might want to increase the number of iterations, check the scale of the features or consider increasing regularisation. Duality gap: 1.161e+12, tolerance: 6.279e+08\n",
      "  model = cd_fast.enet_coordinate_descent(\n",
      "/home/kjee/.local/lib/python3.9/site-packages/sklearn/linear_model/_coordinate_descent.py:631: ConvergenceWarning: Objective did not converge. You might want to increase the number of iterations, check the scale of the features or consider increasing regularisation. Duality gap: 1.178e+12, tolerance: 6.287e+08\n",
      "  model = cd_fast.enet_coordinate_descent(\n",
      "/home/kjee/.local/lib/python3.9/site-packages/sklearn/linear_model/_coordinate_descent.py:631: ConvergenceWarning: Objective did not converge. You might want to increase the number of iterations, check the scale of the features or consider increasing regularisation. Duality gap: 1.192e+12, tolerance: 6.285e+08\n",
      "  model = cd_fast.enet_coordinate_descent(\n",
      "/home/kjee/.local/lib/python3.9/site-packages/sklearn/linear_model/_coordinate_descent.py:631: ConvergenceWarning: Objective did not converge. You might want to increase the number of iterations, check the scale of the features or consider increasing regularisation. Duality gap: 1.180e+12, tolerance: 6.279e+08\n",
      "  model = cd_fast.enet_coordinate_descent(\n",
      "/home/kjee/.local/lib/python3.9/site-packages/sklearn/linear_model/_coordinate_descent.py:631: ConvergenceWarning: Objective did not converge. You might want to increase the number of iterations, check the scale of the features or consider increasing regularisation. Duality gap: 1.182e+12, tolerance: 6.275e+08\n",
      "  model = cd_fast.enet_coordinate_descent(\n",
      "/home/kjee/.local/lib/python3.9/site-packages/sklearn/linear_model/_coordinate_descent.py:631: ConvergenceWarning: Objective did not converge. You might want to increase the number of iterations, check the scale of the features or consider increasing regularisation. Duality gap: 1.129e+12, tolerance: 6.279e+08\n",
      "  model = cd_fast.enet_coordinate_descent(\n",
      "/home/kjee/.local/lib/python3.9/site-packages/sklearn/linear_model/_coordinate_descent.py:631: ConvergenceWarning: Objective did not converge. You might want to increase the number of iterations, check the scale of the features or consider increasing regularisation. Duality gap: 1.171e+12, tolerance: 6.287e+08\n",
      "  model = cd_fast.enet_coordinate_descent(\n",
      "/home/kjee/.local/lib/python3.9/site-packages/sklearn/linear_model/_coordinate_descent.py:631: ConvergenceWarning: Objective did not converge. You might want to increase the number of iterations, check the scale of the features or consider increasing regularisation. Duality gap: 1.189e+12, tolerance: 6.285e+08\n",
      "  model = cd_fast.enet_coordinate_descent(\n",
      "/home/kjee/.local/lib/python3.9/site-packages/sklearn/linear_model/_coordinate_descent.py:631: ConvergenceWarning: Objective did not converge. You might want to increase the number of iterations, check the scale of the features or consider increasing regularisation. Duality gap: 1.172e+12, tolerance: 6.279e+08\n",
      "  model = cd_fast.enet_coordinate_descent(\n",
      "/home/kjee/.local/lib/python3.9/site-packages/sklearn/linear_model/_coordinate_descent.py:631: ConvergenceWarning: Objective did not converge. You might want to increase the number of iterations, check the scale of the features or consider increasing regularisation. Duality gap: 1.176e+12, tolerance: 6.275e+08\n",
      "  model = cd_fast.enet_coordinate_descent(\n",
      "/home/kjee/.local/lib/python3.9/site-packages/sklearn/linear_model/_coordinate_descent.py:631: ConvergenceWarning: Objective did not converge. You might want to increase the number of iterations, check the scale of the features or consider increasing regularisation. Duality gap: 1.104e+12, tolerance: 6.279e+08\n",
      "  model = cd_fast.enet_coordinate_descent(\n",
      "/home/kjee/.local/lib/python3.9/site-packages/sklearn/linear_model/_coordinate_descent.py:631: ConvergenceWarning: Objective did not converge. You might want to increase the number of iterations, check the scale of the features or consider increasing regularisation. Duality gap: 1.164e+12, tolerance: 6.287e+08\n",
      "  model = cd_fast.enet_coordinate_descent(\n",
      "/home/kjee/.local/lib/python3.9/site-packages/sklearn/linear_model/_coordinate_descent.py:631: ConvergenceWarning: Objective did not converge. You might want to increase the number of iterations, check the scale of the features or consider increasing regularisation. Duality gap: 1.187e+12, tolerance: 6.285e+08\n",
      "  model = cd_fast.enet_coordinate_descent(\n",
      "/home/kjee/.local/lib/python3.9/site-packages/sklearn/linear_model/_coordinate_descent.py:631: ConvergenceWarning: Objective did not converge. You might want to increase the number of iterations, check the scale of the features or consider increasing regularisation. Duality gap: 1.166e+12, tolerance: 6.279e+08\n",
      "  model = cd_fast.enet_coordinate_descent(\n",
      "/home/kjee/.local/lib/python3.9/site-packages/sklearn/linear_model/_coordinate_descent.py:631: ConvergenceWarning: Objective did not converge. You might want to increase the number of iterations, check the scale of the features or consider increasing regularisation. Duality gap: 1.171e+12, tolerance: 6.275e+08\n",
      "  model = cd_fast.enet_coordinate_descent(\n",
      "/home/kjee/.local/lib/python3.9/site-packages/sklearn/linear_model/_coordinate_descent.py:631: ConvergenceWarning: Objective did not converge. You might want to increase the number of iterations, check the scale of the features or consider increasing regularisation. Duality gap: 1.083e+12, tolerance: 6.279e+08\n",
      "  model = cd_fast.enet_coordinate_descent(\n",
      "/home/kjee/.local/lib/python3.9/site-packages/sklearn/linear_model/_coordinate_descent.py:631: ConvergenceWarning: Objective did not converge. You might want to increase the number of iterations, check the scale of the features or consider increasing regularisation. Duality gap: 1.159e+12, tolerance: 6.287e+08\n",
      "  model = cd_fast.enet_coordinate_descent(\n",
      "/home/kjee/.local/lib/python3.9/site-packages/sklearn/linear_model/_coordinate_descent.py:631: ConvergenceWarning: Objective did not converge. You might want to increase the number of iterations, check the scale of the features or consider increasing regularisation. Duality gap: 1.185e+12, tolerance: 6.285e+08\n",
      "  model = cd_fast.enet_coordinate_descent(\n",
      "/home/kjee/.local/lib/python3.9/site-packages/sklearn/linear_model/_coordinate_descent.py:631: ConvergenceWarning: Objective did not converge. You might want to increase the number of iterations, check the scale of the features or consider increasing regularisation. Duality gap: 1.160e+12, tolerance: 6.279e+08\n",
      "  model = cd_fast.enet_coordinate_descent(\n",
      "/home/kjee/.local/lib/python3.9/site-packages/sklearn/linear_model/_coordinate_descent.py:631: ConvergenceWarning: Objective did not converge. You might want to increase the number of iterations, check the scale of the features or consider increasing regularisation. Duality gap: 1.167e+12, tolerance: 6.275e+08\n",
      "  model = cd_fast.enet_coordinate_descent(\n",
      "/home/kjee/.local/lib/python3.9/site-packages/sklearn/linear_model/_coordinate_descent.py:631: ConvergenceWarning: Objective did not converge. You might want to increase the number of iterations, check the scale of the features or consider increasing regularisation. Duality gap: 1.067e+12, tolerance: 6.279e+08\n",
      "  model = cd_fast.enet_coordinate_descent(\n",
      "/home/kjee/.local/lib/python3.9/site-packages/sklearn/linear_model/_coordinate_descent.py:631: ConvergenceWarning: Objective did not converge. You might want to increase the number of iterations, check the scale of the features or consider increasing regularisation. Duality gap: 1.155e+12, tolerance: 6.287e+08\n",
      "  model = cd_fast.enet_coordinate_descent(\n",
      "/home/kjee/.local/lib/python3.9/site-packages/sklearn/linear_model/_coordinate_descent.py:631: ConvergenceWarning: Objective did not converge. You might want to increase the number of iterations, check the scale of the features or consider increasing regularisation. Duality gap: 1.183e+12, tolerance: 6.285e+08\n",
      "  model = cd_fast.enet_coordinate_descent(\n",
      "/home/kjee/.local/lib/python3.9/site-packages/sklearn/linear_model/_coordinate_descent.py:631: ConvergenceWarning: Objective did not converge. You might want to increase the number of iterations, check the scale of the features or consider increasing regularisation. Duality gap: 1.156e+12, tolerance: 6.279e+08\n",
      "  model = cd_fast.enet_coordinate_descent(\n",
      "/home/kjee/.local/lib/python3.9/site-packages/sklearn/linear_model/_coordinate_descent.py:631: ConvergenceWarning: Objective did not converge. You might want to increase the number of iterations, check the scale of the features or consider increasing regularisation. Duality gap: 1.163e+12, tolerance: 6.275e+08\n",
      "  model = cd_fast.enet_coordinate_descent(\n",
      "/home/kjee/.local/lib/python3.9/site-packages/sklearn/linear_model/_coordinate_descent.py:631: ConvergenceWarning: Objective did not converge. You might want to increase the number of iterations, check the scale of the features or consider increasing regularisation. Duality gap: 1.054e+12, tolerance: 6.279e+08\n",
      "  model = cd_fast.enet_coordinate_descent(\n",
      "/home/kjee/.local/lib/python3.9/site-packages/sklearn/linear_model/_coordinate_descent.py:631: ConvergenceWarning: Objective did not converge. You might want to increase the number of iterations, check the scale of the features or consider increasing regularisation. Duality gap: 1.151e+12, tolerance: 6.287e+08\n",
      "  model = cd_fast.enet_coordinate_descent(\n",
      "/home/kjee/.local/lib/python3.9/site-packages/sklearn/linear_model/_coordinate_descent.py:631: ConvergenceWarning: Objective did not converge. You might want to increase the number of iterations, check the scale of the features or consider increasing regularisation. Duality gap: 1.181e+12, tolerance: 6.285e+08\n",
      "  model = cd_fast.enet_coordinate_descent(\n",
      "/home/kjee/.local/lib/python3.9/site-packages/sklearn/linear_model/_coordinate_descent.py:631: ConvergenceWarning: Objective did not converge. You might want to increase the number of iterations, check the scale of the features or consider increasing regularisation. Duality gap: 1.152e+12, tolerance: 6.279e+08\n",
      "  model = cd_fast.enet_coordinate_descent(\n",
      "/home/kjee/.local/lib/python3.9/site-packages/sklearn/linear_model/_coordinate_descent.py:631: ConvergenceWarning: Objective did not converge. You might want to increase the number of iterations, check the scale of the features or consider increasing regularisation. Duality gap: 1.160e+12, tolerance: 6.275e+08\n",
      "  model = cd_fast.enet_coordinate_descent(\n",
      "/home/kjee/.local/lib/python3.9/site-packages/sklearn/linear_model/_coordinate_descent.py:631: ConvergenceWarning: Objective did not converge. You might want to increase the number of iterations, check the scale of the features or consider increasing regularisation. Duality gap: 1.044e+12, tolerance: 6.279e+08\n",
      "  model = cd_fast.enet_coordinate_descent(\n",
      "/home/kjee/.local/lib/python3.9/site-packages/sklearn/linear_model/_coordinate_descent.py:631: ConvergenceWarning: Objective did not converge. You might want to increase the number of iterations, check the scale of the features or consider increasing regularisation. Duality gap: 1.148e+12, tolerance: 6.287e+08\n",
      "  model = cd_fast.enet_coordinate_descent(\n",
      "/home/kjee/.local/lib/python3.9/site-packages/sklearn/linear_model/_coordinate_descent.py:631: ConvergenceWarning: Objective did not converge. You might want to increase the number of iterations, check the scale of the features or consider increasing regularisation. Duality gap: 1.180e+12, tolerance: 6.285e+08\n",
      "  model = cd_fast.enet_coordinate_descent(\n",
      "/home/kjee/.local/lib/python3.9/site-packages/sklearn/linear_model/_coordinate_descent.py:631: ConvergenceWarning: Objective did not converge. You might want to increase the number of iterations, check the scale of the features or consider increasing regularisation. Duality gap: 1.148e+12, tolerance: 6.279e+08\n",
      "  model = cd_fast.enet_coordinate_descent(\n",
      "/home/kjee/.local/lib/python3.9/site-packages/sklearn/linear_model/_coordinate_descent.py:631: ConvergenceWarning: Objective did not converge. You might want to increase the number of iterations, check the scale of the features or consider increasing regularisation. Duality gap: 1.157e+12, tolerance: 6.275e+08\n",
      "  model = cd_fast.enet_coordinate_descent(\n",
      "/home/kjee/.local/lib/python3.9/site-packages/sklearn/linear_model/_coordinate_descent.py:631: ConvergenceWarning: Objective did not converge. You might want to increase the number of iterations, check the scale of the features or consider increasing regularisation. Duality gap: 1.036e+12, tolerance: 6.279e+08\n",
      "  model = cd_fast.enet_coordinate_descent(\n",
      "/home/kjee/.local/lib/python3.9/site-packages/sklearn/linear_model/_coordinate_descent.py:631: ConvergenceWarning: Objective did not converge. You might want to increase the number of iterations, check the scale of the features or consider increasing regularisation. Duality gap: 1.146e+12, tolerance: 6.287e+08\n",
      "  model = cd_fast.enet_coordinate_descent(\n",
      "/home/kjee/.local/lib/python3.9/site-packages/sklearn/linear_model/_coordinate_descent.py:631: ConvergenceWarning: Objective did not converge. You might want to increase the number of iterations, check the scale of the features or consider increasing regularisation. Duality gap: 1.179e+12, tolerance: 6.285e+08\n",
      "  model = cd_fast.enet_coordinate_descent(\n",
      "/home/kjee/.local/lib/python3.9/site-packages/sklearn/linear_model/_coordinate_descent.py:631: ConvergenceWarning: Objective did not converge. You might want to increase the number of iterations, check the scale of the features or consider increasing regularisation. Duality gap: 1.146e+12, tolerance: 6.279e+08\n",
      "  model = cd_fast.enet_coordinate_descent(\n",
      "/home/kjee/.local/lib/python3.9/site-packages/sklearn/linear_model/_coordinate_descent.py:631: ConvergenceWarning: Objective did not converge. You might want to increase the number of iterations, check the scale of the features or consider increasing regularisation. Duality gap: 1.155e+12, tolerance: 6.275e+08\n",
      "  model = cd_fast.enet_coordinate_descent(\n",
      "/home/kjee/.local/lib/python3.9/site-packages/sklearn/linear_model/_coordinate_descent.py:631: ConvergenceWarning: Objective did not converge. You might want to increase the number of iterations, check the scale of the features or consider increasing regularisation. Duality gap: 1.030e+12, tolerance: 6.279e+08\n",
      "  model = cd_fast.enet_coordinate_descent(\n",
      "/home/kjee/.local/lib/python3.9/site-packages/sklearn/linear_model/_coordinate_descent.py:631: ConvergenceWarning: Objective did not converge. You might want to increase the number of iterations, check the scale of the features or consider increasing regularisation. Duality gap: 1.144e+12, tolerance: 6.287e+08\n",
      "  model = cd_fast.enet_coordinate_descent(\n",
      "/home/kjee/.local/lib/python3.9/site-packages/sklearn/linear_model/_coordinate_descent.py:631: ConvergenceWarning: Objective did not converge. You might want to increase the number of iterations, check the scale of the features or consider increasing regularisation. Duality gap: 1.178e+12, tolerance: 6.285e+08\n",
      "  model = cd_fast.enet_coordinate_descent(\n",
      "/home/kjee/.local/lib/python3.9/site-packages/sklearn/linear_model/_coordinate_descent.py:631: ConvergenceWarning: Objective did not converge. You might want to increase the number of iterations, check the scale of the features or consider increasing regularisation. Duality gap: 1.144e+12, tolerance: 6.279e+08\n",
      "  model = cd_fast.enet_coordinate_descent(\n",
      "/home/kjee/.local/lib/python3.9/site-packages/sklearn/linear_model/_coordinate_descent.py:631: ConvergenceWarning: Objective did not converge. You might want to increase the number of iterations, check the scale of the features or consider increasing regularisation. Duality gap: 1.154e+12, tolerance: 6.275e+08\n",
      "  model = cd_fast.enet_coordinate_descent(\n",
      "/home/kjee/.local/lib/python3.9/site-packages/sklearn/linear_model/_coordinate_descent.py:631: ConvergenceWarning: Objective did not converge. You might want to increase the number of iterations, check the scale of the features or consider increasing regularisation. Duality gap: 1.026e+12, tolerance: 6.279e+08\n",
      "  model = cd_fast.enet_coordinate_descent(\n",
      "/home/kjee/.local/lib/python3.9/site-packages/sklearn/linear_model/_coordinate_descent.py:631: ConvergenceWarning: Objective did not converge. You might want to increase the number of iterations, check the scale of the features or consider increasing regularisation. Duality gap: 1.210e+12, tolerance: 6.287e+08 Linear regression models with null weight for the l1 regularization term are more efficiently fitted using one of the solvers implemented in sklearn.linear_model.Ridge/RidgeCV instead.\n",
      "  model = cd_fast.enet_coordinate_descent(\n",
      "/home/kjee/.local/lib/python3.9/site-packages/sklearn/linear_model/_coordinate_descent.py:631: ConvergenceWarning: Objective did not converge. You might want to increase the number of iterations, check the scale of the features or consider increasing regularisation. Duality gap: 1.213e+12, tolerance: 6.285e+08 Linear regression models with null weight for the l1 regularization term are more efficiently fitted using one of the solvers implemented in sklearn.linear_model.Ridge/RidgeCV instead.\n",
      "  model = cd_fast.enet_coordinate_descent(\n",
      "/home/kjee/.local/lib/python3.9/site-packages/sklearn/linear_model/_coordinate_descent.py:631: ConvergenceWarning: Objective did not converge. You might want to increase the number of iterations, check the scale of the features or consider increasing regularisation. Duality gap: 1.212e+12, tolerance: 6.279e+08 Linear regression models with null weight for the l1 regularization term are more efficiently fitted using one of the solvers implemented in sklearn.linear_model.Ridge/RidgeCV instead.\n",
      "  model = cd_fast.enet_coordinate_descent(\n",
      "/home/kjee/.local/lib/python3.9/site-packages/sklearn/linear_model/_coordinate_descent.py:631: ConvergenceWarning: Objective did not converge. You might want to increase the number of iterations, check the scale of the features or consider increasing regularisation. Duality gap: 1.210e+12, tolerance: 6.275e+08 Linear regression models with null weight for the l1 regularization term are more efficiently fitted using one of the solvers implemented in sklearn.linear_model.Ridge/RidgeCV instead.\n",
      "  model = cd_fast.enet_coordinate_descent(\n",
      "/home/kjee/.local/lib/python3.9/site-packages/sklearn/linear_model/_coordinate_descent.py:631: ConvergenceWarning: Objective did not converge. You might want to increase the number of iterations, check the scale of the features or consider increasing regularisation. Duality gap: 1.213e+12, tolerance: 6.279e+08 Linear regression models with null weight for the l1 regularization term are more efficiently fitted using one of the solvers implemented in sklearn.linear_model.Ridge/RidgeCV instead.\n",
      "  model = cd_fast.enet_coordinate_descent(\n",
      "/home/kjee/.local/lib/python3.9/site-packages/sklearn/linear_model/_coordinate_descent.py:631: ConvergenceWarning: Objective did not converge. You might want to increase the number of iterations, check the scale of the features or consider increasing regularisation. Duality gap: 1.191e+10, tolerance: 6.287e+08\n",
      "  model = cd_fast.enet_coordinate_descent(\n",
      "/home/kjee/.local/lib/python3.9/site-packages/sklearn/linear_model/_coordinate_descent.py:631: ConvergenceWarning: Objective did not converge. You might want to increase the number of iterations, check the scale of the features or consider increasing regularisation. Duality gap: 1.174e+11, tolerance: 6.285e+08\n",
      "  model = cd_fast.enet_coordinate_descent(\n",
      "/home/kjee/.local/lib/python3.9/site-packages/sklearn/linear_model/_coordinate_descent.py:631: ConvergenceWarning: Objective did not converge. You might want to increase the number of iterations, check the scale of the features or consider increasing regularisation. Duality gap: 1.853e+10, tolerance: 6.279e+08\n",
      "  model = cd_fast.enet_coordinate_descent(\n",
      "/home/kjee/.local/lib/python3.9/site-packages/sklearn/linear_model/_coordinate_descent.py:631: ConvergenceWarning: Objective did not converge. You might want to increase the number of iterations, check the scale of the features or consider increasing regularisation. Duality gap: 2.028e+10, tolerance: 6.275e+08\n",
      "  model = cd_fast.enet_coordinate_descent(\n",
      "/home/kjee/.local/lib/python3.9/site-packages/sklearn/linear_model/_coordinate_descent.py:631: ConvergenceWarning: Objective did not converge. You might want to increase the number of iterations, check the scale of the features or consider increasing regularisation. Duality gap: 1.118e+10, tolerance: 6.287e+08\n",
      "  model = cd_fast.enet_coordinate_descent(\n",
      "/home/kjee/.local/lib/python3.9/site-packages/sklearn/linear_model/_coordinate_descent.py:631: ConvergenceWarning: Objective did not converge. You might want to increase the number of iterations, check the scale of the features or consider increasing regularisation. Duality gap: 1.050e+11, tolerance: 6.285e+08\n",
      "  model = cd_fast.enet_coordinate_descent(\n",
      "/home/kjee/.local/lib/python3.9/site-packages/sklearn/linear_model/_coordinate_descent.py:631: ConvergenceWarning: Objective did not converge. You might want to increase the number of iterations, check the scale of the features or consider increasing regularisation. Duality gap: 1.620e+10, tolerance: 6.279e+08\n",
      "  model = cd_fast.enet_coordinate_descent(\n",
      "/home/kjee/.local/lib/python3.9/site-packages/sklearn/linear_model/_coordinate_descent.py:631: ConvergenceWarning: Objective did not converge. You might want to increase the number of iterations, check the scale of the features or consider increasing regularisation. Duality gap: 1.879e+10, tolerance: 6.275e+08\n",
      "  model = cd_fast.enet_coordinate_descent(\n",
      "/home/kjee/.local/lib/python3.9/site-packages/sklearn/linear_model/_coordinate_descent.py:631: ConvergenceWarning: Objective did not converge. You might want to increase the number of iterations, check the scale of the features or consider increasing regularisation. Duality gap: 1.763e+10, tolerance: 6.287e+08\n",
      "  model = cd_fast.enet_coordinate_descent(\n",
      "/home/kjee/.local/lib/python3.9/site-packages/sklearn/linear_model/_coordinate_descent.py:631: ConvergenceWarning: Objective did not converge. You might want to increase the number of iterations, check the scale of the features or consider increasing regularisation. Duality gap: 1.399e+11, tolerance: 6.285e+08\n",
      "  model = cd_fast.enet_coordinate_descent(\n",
      "/home/kjee/.local/lib/python3.9/site-packages/sklearn/linear_model/_coordinate_descent.py:631: ConvergenceWarning: Objective did not converge. You might want to increase the number of iterations, check the scale of the features or consider increasing regularisation. Duality gap: 2.365e+10, tolerance: 6.279e+08\n",
      "  model = cd_fast.enet_coordinate_descent(\n",
      "/home/kjee/.local/lib/python3.9/site-packages/sklearn/linear_model/_coordinate_descent.py:631: ConvergenceWarning: Objective did not converge. You might want to increase the number of iterations, check the scale of the features or consider increasing regularisation. Duality gap: 2.892e+10, tolerance: 6.275e+08\n",
      "  model = cd_fast.enet_coordinate_descent(\n",
      "/home/kjee/.local/lib/python3.9/site-packages/sklearn/linear_model/_coordinate_descent.py:631: ConvergenceWarning: Objective did not converge. You might want to increase the number of iterations, check the scale of the features or consider increasing regularisation. Duality gap: 3.284e+10, tolerance: 6.287e+08\n",
      "  model = cd_fast.enet_coordinate_descent(\n",
      "/home/kjee/.local/lib/python3.9/site-packages/sklearn/linear_model/_coordinate_descent.py:631: ConvergenceWarning: Objective did not converge. You might want to increase the number of iterations, check the scale of the features or consider increasing regularisation. Duality gap: 2.102e+11, tolerance: 6.285e+08\n",
      "  model = cd_fast.enet_coordinate_descent(\n",
      "/home/kjee/.local/lib/python3.9/site-packages/sklearn/linear_model/_coordinate_descent.py:631: ConvergenceWarning: Objective did not converge. You might want to increase the number of iterations, check the scale of the features or consider increasing regularisation. Duality gap: 4.175e+10, tolerance: 6.279e+08\n",
      "  model = cd_fast.enet_coordinate_descent(\n",
      "/home/kjee/.local/lib/python3.9/site-packages/sklearn/linear_model/_coordinate_descent.py:631: ConvergenceWarning: Objective did not converge. You might want to increase the number of iterations, check the scale of the features or consider increasing regularisation. Duality gap: 5.345e+10, tolerance: 6.275e+08\n",
      "  model = cd_fast.enet_coordinate_descent(\n",
      "/home/kjee/.local/lib/python3.9/site-packages/sklearn/linear_model/_coordinate_descent.py:631: ConvergenceWarning: Objective did not converge. You might want to increase the number of iterations, check the scale of the features or consider increasing regularisation. Duality gap: 7.010e+10, tolerance: 6.287e+08\n",
      "  model = cd_fast.enet_coordinate_descent(\n",
      "/home/kjee/.local/lib/python3.9/site-packages/sklearn/linear_model/_coordinate_descent.py:631: ConvergenceWarning: Objective did not converge. You might want to increase the number of iterations, check the scale of the features or consider increasing regularisation. Duality gap: 3.207e+11, tolerance: 6.285e+08\n",
      "  model = cd_fast.enet_coordinate_descent(\n",
      "/home/kjee/.local/lib/python3.9/site-packages/sklearn/linear_model/_coordinate_descent.py:631: ConvergenceWarning: Objective did not converge. You might want to increase the number of iterations, check the scale of the features or consider increasing regularisation. Duality gap: 7.895e+10, tolerance: 6.279e+08\n",
      "  model = cd_fast.enet_coordinate_descent(\n",
      "/home/kjee/.local/lib/python3.9/site-packages/sklearn/linear_model/_coordinate_descent.py:631: ConvergenceWarning: Objective did not converge. You might want to increase the number of iterations, check the scale of the features or consider increasing regularisation. Duality gap: 1.024e+11, tolerance: 6.275e+08\n",
      "  model = cd_fast.enet_coordinate_descent(\n",
      "/home/kjee/.local/lib/python3.9/site-packages/sklearn/linear_model/_coordinate_descent.py:631: ConvergenceWarning: Objective did not converge. You might want to increase the number of iterations, check the scale of the features or consider increasing regularisation. Duality gap: 1.330e+09, tolerance: 6.279e+08\n",
      "  model = cd_fast.enet_coordinate_descent(\n",
      "/home/kjee/.local/lib/python3.9/site-packages/sklearn/linear_model/_coordinate_descent.py:631: ConvergenceWarning: Objective did not converge. You might want to increase the number of iterations, check the scale of the features or consider increasing regularisation. Duality gap: 1.385e+11, tolerance: 6.287e+08\n",
      "  model = cd_fast.enet_coordinate_descent(\n",
      "/home/kjee/.local/lib/python3.9/site-packages/sklearn/linear_model/_coordinate_descent.py:631: ConvergenceWarning: Objective did not converge. You might want to increase the number of iterations, check the scale of the features or consider increasing regularisation. Duality gap: 4.688e+11, tolerance: 6.285e+08\n",
      "  model = cd_fast.enet_coordinate_descent(\n",
      "/home/kjee/.local/lib/python3.9/site-packages/sklearn/linear_model/_coordinate_descent.py:631: ConvergenceWarning: Objective did not converge. You might want to increase the number of iterations, check the scale of the features or consider increasing regularisation. Duality gap: 1.451e+11, tolerance: 6.279e+08\n",
      "  model = cd_fast.enet_coordinate_descent(\n",
      "/home/kjee/.local/lib/python3.9/site-packages/sklearn/linear_model/_coordinate_descent.py:631: ConvergenceWarning: Objective did not converge. You might want to increase the number of iterations, check the scale of the features or consider increasing regularisation. Duality gap: 1.886e+11, tolerance: 6.275e+08\n",
      "  model = cd_fast.enet_coordinate_descent(\n",
      "/home/kjee/.local/lib/python3.9/site-packages/sklearn/linear_model/_coordinate_descent.py:631: ConvergenceWarning: Objective did not converge. You might want to increase the number of iterations, check the scale of the features or consider increasing regularisation. Duality gap: 5.695e+09, tolerance: 6.279e+08\n",
      "  model = cd_fast.enet_coordinate_descent(\n",
      "/home/kjee/.local/lib/python3.9/site-packages/sklearn/linear_model/_coordinate_descent.py:631: ConvergenceWarning: Objective did not converge. You might want to increase the number of iterations, check the scale of the features or consider increasing regularisation. Duality gap: 2.581e+11, tolerance: 6.287e+08\n",
      "  model = cd_fast.enet_coordinate_descent(\n",
      "/home/kjee/.local/lib/python3.9/site-packages/sklearn/linear_model/_coordinate_descent.py:631: ConvergenceWarning: Objective did not converge. You might want to increase the number of iterations, check the scale of the features or consider increasing regularisation. Duality gap: 6.355e+11, tolerance: 6.285e+08\n",
      "  model = cd_fast.enet_coordinate_descent(\n",
      "/home/kjee/.local/lib/python3.9/site-packages/sklearn/linear_model/_coordinate_descent.py:631: ConvergenceWarning: Objective did not converge. You might want to increase the number of iterations, check the scale of the features or consider increasing regularisation. Duality gap: 2.484e+11, tolerance: 6.279e+08\n",
      "  model = cd_fast.enet_coordinate_descent(\n",
      "/home/kjee/.local/lib/python3.9/site-packages/sklearn/linear_model/_coordinate_descent.py:631: ConvergenceWarning: Objective did not converge. You might want to increase the number of iterations, check the scale of the features or consider increasing regularisation. Duality gap: 3.283e+11, tolerance: 6.275e+08\n",
      "  model = cd_fast.enet_coordinate_descent(\n",
      "/home/kjee/.local/lib/python3.9/site-packages/sklearn/linear_model/_coordinate_descent.py:631: ConvergenceWarning: Objective did not converge. You might want to increase the number of iterations, check the scale of the features or consider increasing regularisation. Duality gap: 2.125e+10, tolerance: 6.279e+08\n",
      "  model = cd_fast.enet_coordinate_descent(\n",
      "/home/kjee/.local/lib/python3.9/site-packages/sklearn/linear_model/_coordinate_descent.py:631: ConvergenceWarning: Objective did not converge. You might want to increase the number of iterations, check the scale of the features or consider increasing regularisation. Duality gap: 4.275e+11, tolerance: 6.287e+08\n",
      "  model = cd_fast.enet_coordinate_descent(\n",
      "/home/kjee/.local/lib/python3.9/site-packages/sklearn/linear_model/_coordinate_descent.py:631: ConvergenceWarning: Objective did not converge. You might want to increase the number of iterations, check the scale of the features or consider increasing regularisation. Duality gap: 7.942e+11, tolerance: 6.285e+08\n",
      "  model = cd_fast.enet_coordinate_descent(\n",
      "/home/kjee/.local/lib/python3.9/site-packages/sklearn/linear_model/_coordinate_descent.py:631: ConvergenceWarning: Objective did not converge. You might want to increase the number of iterations, check the scale of the features or consider increasing regularisation. Duality gap: 4.190e+11, tolerance: 6.279e+08\n",
      "  model = cd_fast.enet_coordinate_descent(\n",
      "/home/kjee/.local/lib/python3.9/site-packages/sklearn/linear_model/_coordinate_descent.py:631: ConvergenceWarning: Objective did not converge. You might want to increase the number of iterations, check the scale of the features or consider increasing regularisation. Duality gap: 5.053e+11, tolerance: 6.275e+08\n",
      "  model = cd_fast.enet_coordinate_descent(\n",
      "/home/kjee/.local/lib/python3.9/site-packages/sklearn/linear_model/_coordinate_descent.py:631: ConvergenceWarning: Objective did not converge. You might want to increase the number of iterations, check the scale of the features or consider increasing regularisation. Duality gap: 6.788e+10, tolerance: 6.279e+08\n",
      "  model = cd_fast.enet_coordinate_descent(\n",
      "/home/kjee/.local/lib/python3.9/site-packages/sklearn/linear_model/_coordinate_descent.py:631: ConvergenceWarning: Objective did not converge. You might want to increase the number of iterations, check the scale of the features or consider increasing regularisation. Duality gap: 6.223e+11, tolerance: 6.287e+08\n",
      "  model = cd_fast.enet_coordinate_descent(\n",
      "/home/kjee/.local/lib/python3.9/site-packages/sklearn/linear_model/_coordinate_descent.py:631: ConvergenceWarning: Objective did not converge. You might want to increase the number of iterations, check the scale of the features or consider increasing regularisation. Duality gap: 9.273e+11, tolerance: 6.285e+08\n",
      "  model = cd_fast.enet_coordinate_descent(\n",
      "/home/kjee/.local/lib/python3.9/site-packages/sklearn/linear_model/_coordinate_descent.py:631: ConvergenceWarning: Objective did not converge. You might want to increase the number of iterations, check the scale of the features or consider increasing regularisation. Duality gap: 6.103e+11, tolerance: 6.279e+08\n",
      "  model = cd_fast.enet_coordinate_descent(\n",
      "/home/kjee/.local/lib/python3.9/site-packages/sklearn/linear_model/_coordinate_descent.py:631: ConvergenceWarning: Objective did not converge. You might want to increase the number of iterations, check the scale of the features or consider increasing regularisation. Duality gap: 6.950e+11, tolerance: 6.275e+08\n",
      "  model = cd_fast.enet_coordinate_descent(\n",
      "/home/kjee/.local/lib/python3.9/site-packages/sklearn/linear_model/_coordinate_descent.py:631: ConvergenceWarning: Objective did not converge. You might want to increase the number of iterations, check the scale of the features or consider increasing regularisation. Duality gap: 1.780e+11, tolerance: 6.279e+08\n",
      "  model = cd_fast.enet_coordinate_descent(\n",
      "/home/kjee/.local/lib/python3.9/site-packages/sklearn/linear_model/_coordinate_descent.py:631: ConvergenceWarning: Objective did not converge. You might want to increase the number of iterations, check the scale of the features or consider increasing regularisation. Duality gap: 8.042e+11, tolerance: 6.287e+08\n",
      "  model = cd_fast.enet_coordinate_descent(\n",
      "/home/kjee/.local/lib/python3.9/site-packages/sklearn/linear_model/_coordinate_descent.py:631: ConvergenceWarning: Objective did not converge. You might want to increase the number of iterations, check the scale of the features or consider increasing regularisation. Duality gap: 1.025e+12, tolerance: 6.285e+08\n",
      "  model = cd_fast.enet_coordinate_descent(\n",
      "/home/kjee/.local/lib/python3.9/site-packages/sklearn/linear_model/_coordinate_descent.py:631: ConvergenceWarning: Objective did not converge. You might want to increase the number of iterations, check the scale of the features or consider increasing regularisation. Duality gap: 7.868e+11, tolerance: 6.279e+08\n",
      "  model = cd_fast.enet_coordinate_descent(\n",
      "/home/kjee/.local/lib/python3.9/site-packages/sklearn/linear_model/_coordinate_descent.py:631: ConvergenceWarning: Objective did not converge. You might want to increase the number of iterations, check the scale of the features or consider increasing regularisation. Duality gap: 8.608e+11, tolerance: 6.275e+08\n",
      "  model = cd_fast.enet_coordinate_descent(\n",
      "/home/kjee/.local/lib/python3.9/site-packages/sklearn/linear_model/_coordinate_descent.py:631: ConvergenceWarning: Objective did not converge. You might want to increase the number of iterations, check the scale of the features or consider increasing regularisation. Duality gap: 3.694e+11, tolerance: 6.279e+08\n",
      "  model = cd_fast.enet_coordinate_descent(\n",
      "/home/kjee/.local/lib/python3.9/site-packages/sklearn/linear_model/_coordinate_descent.py:631: ConvergenceWarning: Objective did not converge. You might want to increase the number of iterations, check the scale of the features or consider increasing regularisation. Duality gap: 1.324e+12, tolerance: 6.287e+08 Linear regression models with null weight for the l1 regularization term are more efficiently fitted using one of the solvers implemented in sklearn.linear_model.Ridge/RidgeCV instead.\n",
      "  model = cd_fast.enet_coordinate_descent(\n",
      "/home/kjee/.local/lib/python3.9/site-packages/sklearn/linear_model/_coordinate_descent.py:631: ConvergenceWarning: Objective did not converge. You might want to increase the number of iterations, check the scale of the features or consider increasing regularisation. Duality gap: 1.327e+12, tolerance: 6.285e+08 Linear regression models with null weight for the l1 regularization term are more efficiently fitted using one of the solvers implemented in sklearn.linear_model.Ridge/RidgeCV instead.\n",
      "  model = cd_fast.enet_coordinate_descent(\n",
      "/home/kjee/.local/lib/python3.9/site-packages/sklearn/linear_model/_coordinate_descent.py:631: ConvergenceWarning: Objective did not converge. You might want to increase the number of iterations, check the scale of the features or consider increasing regularisation. Duality gap: 1.327e+12, tolerance: 6.279e+08 Linear regression models with null weight for the l1 regularization term are more efficiently fitted using one of the solvers implemented in sklearn.linear_model.Ridge/RidgeCV instead.\n",
      "  model = cd_fast.enet_coordinate_descent(\n",
      "/home/kjee/.local/lib/python3.9/site-packages/sklearn/linear_model/_coordinate_descent.py:631: ConvergenceWarning: Objective did not converge. You might want to increase the number of iterations, check the scale of the features or consider increasing regularisation. Duality gap: 1.325e+12, tolerance: 6.275e+08 Linear regression models with null weight for the l1 regularization term are more efficiently fitted using one of the solvers implemented in sklearn.linear_model.Ridge/RidgeCV instead.\n",
      "  model = cd_fast.enet_coordinate_descent(\n",
      "/home/kjee/.local/lib/python3.9/site-packages/sklearn/linear_model/_coordinate_descent.py:631: ConvergenceWarning: Objective did not converge. You might want to increase the number of iterations, check the scale of the features or consider increasing regularisation. Duality gap: 1.327e+12, tolerance: 6.279e+08 Linear regression models with null weight for the l1 regularization term are more efficiently fitted using one of the solvers implemented in sklearn.linear_model.Ridge/RidgeCV instead.\n",
      "  model = cd_fast.enet_coordinate_descent(\n",
      "/home/kjee/.local/lib/python3.9/site-packages/sklearn/linear_model/_coordinate_descent.py:631: ConvergenceWarning: Objective did not converge. You might want to increase the number of iterations, check the scale of the features or consider increasing regularisation. Duality gap: 1.148e+11, tolerance: 6.287e+08\n",
      "  model = cd_fast.enet_coordinate_descent(\n",
      "/home/kjee/.local/lib/python3.9/site-packages/sklearn/linear_model/_coordinate_descent.py:631: ConvergenceWarning: Objective did not converge. You might want to increase the number of iterations, check the scale of the features or consider increasing regularisation. Duality gap: 3.550e+11, tolerance: 6.285e+08\n",
      "  model = cd_fast.enet_coordinate_descent(\n",
      "/home/kjee/.local/lib/python3.9/site-packages/sklearn/linear_model/_coordinate_descent.py:631: ConvergenceWarning: Objective did not converge. You might want to increase the number of iterations, check the scale of the features or consider increasing regularisation. Duality gap: 8.692e+10, tolerance: 6.279e+08\n",
      "  model = cd_fast.enet_coordinate_descent(\n",
      "/home/kjee/.local/lib/python3.9/site-packages/sklearn/linear_model/_coordinate_descent.py:631: ConvergenceWarning: Objective did not converge. You might want to increase the number of iterations, check the scale of the features or consider increasing regularisation. Duality gap: 1.462e+11, tolerance: 6.275e+08\n",
      "  model = cd_fast.enet_coordinate_descent(\n",
      "/home/kjee/.local/lib/python3.9/site-packages/sklearn/linear_model/_coordinate_descent.py:631: ConvergenceWarning: Objective did not converge. You might want to increase the number of iterations, check the scale of the features or consider increasing regularisation. Duality gap: 1.636e+10, tolerance: 6.279e+08\n",
      "  model = cd_fast.enet_coordinate_descent(\n",
      "/home/kjee/.local/lib/python3.9/site-packages/sklearn/linear_model/_coordinate_descent.py:631: ConvergenceWarning: Objective did not converge. You might want to increase the number of iterations, check the scale of the features or consider increasing regularisation. Duality gap: 1.790e+12, tolerance: 6.287e+08 Linear regression models with null weight for the l1 regularization term are more efficiently fitted using one of the solvers implemented in sklearn.linear_model.Ridge/RidgeCV instead.\n",
      "  model = cd_fast.enet_coordinate_descent(\n",
      "/home/kjee/.local/lib/python3.9/site-packages/sklearn/linear_model/_coordinate_descent.py:631: ConvergenceWarning: Objective did not converge. You might want to increase the number of iterations, check the scale of the features or consider increasing regularisation. Duality gap: 1.792e+12, tolerance: 6.285e+08 Linear regression models with null weight for the l1 regularization term are more efficiently fitted using one of the solvers implemented in sklearn.linear_model.Ridge/RidgeCV instead.\n",
      "  model = cd_fast.enet_coordinate_descent(\n",
      "/home/kjee/.local/lib/python3.9/site-packages/sklearn/linear_model/_coordinate_descent.py:631: ConvergenceWarning: Objective did not converge. You might want to increase the number of iterations, check the scale of the features or consider increasing regularisation. Duality gap: 1.790e+12, tolerance: 6.279e+08 Linear regression models with null weight for the l1 regularization term are more efficiently fitted using one of the solvers implemented in sklearn.linear_model.Ridge/RidgeCV instead.\n",
      "  model = cd_fast.enet_coordinate_descent(\n",
      "/home/kjee/.local/lib/python3.9/site-packages/sklearn/linear_model/_coordinate_descent.py:631: ConvergenceWarning: Objective did not converge. You might want to increase the number of iterations, check the scale of the features or consider increasing regularisation. Duality gap: 1.789e+12, tolerance: 6.275e+08 Linear regression models with null weight for the l1 regularization term are more efficiently fitted using one of the solvers implemented in sklearn.linear_model.Ridge/RidgeCV instead.\n",
      "  model = cd_fast.enet_coordinate_descent(\n",
      "/home/kjee/.local/lib/python3.9/site-packages/sklearn/linear_model/_coordinate_descent.py:631: ConvergenceWarning: Objective did not converge. You might want to increase the number of iterations, check the scale of the features or consider increasing regularisation. Duality gap: 1.791e+12, tolerance: 6.279e+08 Linear regression models with null weight for the l1 regularization term are more efficiently fitted using one of the solvers implemented in sklearn.linear_model.Ridge/RidgeCV instead.\n",
      "  model = cd_fast.enet_coordinate_descent(\n",
      "/home/kjee/.local/lib/python3.9/site-packages/sklearn/linear_model/_coordinate_descent.py:631: ConvergenceWarning: Objective did not converge. You might want to increase the number of iterations, check the scale of the features or consider increasing regularisation. Duality gap: 1.595e+09, tolerance: 6.287e+08\n",
      "  model = cd_fast.enet_coordinate_descent(\n",
      "/home/kjee/.local/lib/python3.9/site-packages/sklearn/linear_model/_coordinate_descent.py:631: ConvergenceWarning: Objective did not converge. You might want to increase the number of iterations, check the scale of the features or consider increasing regularisation. Duality gap: 5.248e+09, tolerance: 6.285e+08\n",
      "  model = cd_fast.enet_coordinate_descent(\n",
      "/home/kjee/.local/lib/python3.9/site-packages/sklearn/linear_model/_coordinate_descent.py:631: ConvergenceWarning: Objective did not converge. You might want to increase the number of iterations, check the scale of the features or consider increasing regularisation. Duality gap: 1.043e+09, tolerance: 6.275e+08\n",
      "  model = cd_fast.enet_coordinate_descent(\n",
      "/home/kjee/.local/lib/python3.9/site-packages/sklearn/linear_model/_coordinate_descent.py:631: ConvergenceWarning: Objective did not converge. You might want to increase the number of iterations, check the scale of the features or consider increasing regularisation. Duality gap: 2.453e+12, tolerance: 6.287e+08 Linear regression models with null weight for the l1 regularization term are more efficiently fitted using one of the solvers implemented in sklearn.linear_model.Ridge/RidgeCV instead.\n",
      "  model = cd_fast.enet_coordinate_descent(\n",
      "/home/kjee/.local/lib/python3.9/site-packages/sklearn/linear_model/_coordinate_descent.py:631: ConvergenceWarning: Objective did not converge. You might want to increase the number of iterations, check the scale of the features or consider increasing regularisation. Duality gap: 2.453e+12, tolerance: 6.285e+08 Linear regression models with null weight for the l1 regularization term are more efficiently fitted using one of the solvers implemented in sklearn.linear_model.Ridge/RidgeCV instead.\n",
      "  model = cd_fast.enet_coordinate_descent(\n",
      "/home/kjee/.local/lib/python3.9/site-packages/sklearn/linear_model/_coordinate_descent.py:631: ConvergenceWarning: Objective did not converge. You might want to increase the number of iterations, check the scale of the features or consider increasing regularisation. Duality gap: 2.450e+12, tolerance: 6.279e+08 Linear regression models with null weight for the l1 regularization term are more efficiently fitted using one of the solvers implemented in sklearn.linear_model.Ridge/RidgeCV instead.\n",
      "  model = cd_fast.enet_coordinate_descent(\n",
      "/home/kjee/.local/lib/python3.9/site-packages/sklearn/linear_model/_coordinate_descent.py:631: ConvergenceWarning: Objective did not converge. You might want to increase the number of iterations, check the scale of the features or consider increasing regularisation. Duality gap: 2.448e+12, tolerance: 6.275e+08 Linear regression models with null weight for the l1 regularization term are more efficiently fitted using one of the solvers implemented in sklearn.linear_model.Ridge/RidgeCV instead.\n",
      "  model = cd_fast.enet_coordinate_descent(\n",
      "/home/kjee/.local/lib/python3.9/site-packages/sklearn/linear_model/_coordinate_descent.py:631: ConvergenceWarning: Objective did not converge. You might want to increase the number of iterations, check the scale of the features or consider increasing regularisation. Duality gap: 2.451e+12, tolerance: 6.279e+08 Linear regression models with null weight for the l1 regularization term are more efficiently fitted using one of the solvers implemented in sklearn.linear_model.Ridge/RidgeCV instead.\n",
      "  model = cd_fast.enet_coordinate_descent(\n",
      "/home/kjee/.local/lib/python3.9/site-packages/sklearn/linear_model/_coordinate_descent.py:631: ConvergenceWarning: Objective did not converge. You might want to increase the number of iterations, check the scale of the features or consider increasing regularisation. Duality gap: 2.957e+12, tolerance: 6.287e+08 Linear regression models with null weight for the l1 regularization term are more efficiently fitted using one of the solvers implemented in sklearn.linear_model.Ridge/RidgeCV instead.\n",
      "  model = cd_fast.enet_coordinate_descent(\n",
      "/home/kjee/.local/lib/python3.9/site-packages/sklearn/linear_model/_coordinate_descent.py:631: ConvergenceWarning: Objective did not converge. You might want to increase the number of iterations, check the scale of the features or consider increasing regularisation. Duality gap: 2.956e+12, tolerance: 6.285e+08 Linear regression models with null weight for the l1 regularization term are more efficiently fitted using one of the solvers implemented in sklearn.linear_model.Ridge/RidgeCV instead.\n",
      "  model = cd_fast.enet_coordinate_descent(\n",
      "/home/kjee/.local/lib/python3.9/site-packages/sklearn/linear_model/_coordinate_descent.py:631: ConvergenceWarning: Objective did not converge. You might want to increase the number of iterations, check the scale of the features or consider increasing regularisation. Duality gap: 2.953e+12, tolerance: 6.279e+08 Linear regression models with null weight for the l1 regularization term are more efficiently fitted using one of the solvers implemented in sklearn.linear_model.Ridge/RidgeCV instead.\n",
      "  model = cd_fast.enet_coordinate_descent(\n",
      "/home/kjee/.local/lib/python3.9/site-packages/sklearn/linear_model/_coordinate_descent.py:631: ConvergenceWarning: Objective did not converge. You might want to increase the number of iterations, check the scale of the features or consider increasing regularisation. Duality gap: 2.951e+12, tolerance: 6.275e+08 Linear regression models with null weight for the l1 regularization term are more efficiently fitted using one of the solvers implemented in sklearn.linear_model.Ridge/RidgeCV instead.\n",
      "  model = cd_fast.enet_coordinate_descent(\n",
      "/home/kjee/.local/lib/python3.9/site-packages/sklearn/linear_model/_coordinate_descent.py:631: ConvergenceWarning: Objective did not converge. You might want to increase the number of iterations, check the scale of the features or consider increasing regularisation. Duality gap: 2.953e+12, tolerance: 6.279e+08 Linear regression models with null weight for the l1 regularization term are more efficiently fitted using one of the solvers implemented in sklearn.linear_model.Ridge/RidgeCV instead.\n",
      "  model = cd_fast.enet_coordinate_descent(\n",
      "/home/kjee/.local/lib/python3.9/site-packages/sklearn/linear_model/_coordinate_descent.py:631: ConvergenceWarning: Objective did not converge. You might want to increase the number of iterations, check the scale of the features or consider increasing regularisation. Duality gap: 3.120e+12, tolerance: 6.287e+08 Linear regression models with null weight for the l1 regularization term are more efficiently fitted using one of the solvers implemented in sklearn.linear_model.Ridge/RidgeCV instead.\n",
      "  model = cd_fast.enet_coordinate_descent(\n",
      "/home/kjee/.local/lib/python3.9/site-packages/sklearn/linear_model/_coordinate_descent.py:631: ConvergenceWarning: Objective did not converge. You might want to increase the number of iterations, check the scale of the features or consider increasing regularisation. Duality gap: 3.119e+12, tolerance: 6.285e+08 Linear regression models with null weight for the l1 regularization term are more efficiently fitted using one of the solvers implemented in sklearn.linear_model.Ridge/RidgeCV instead.\n",
      "  model = cd_fast.enet_coordinate_descent(\n",
      "/home/kjee/.local/lib/python3.9/site-packages/sklearn/linear_model/_coordinate_descent.py:631: ConvergenceWarning: Objective did not converge. You might want to increase the number of iterations, check the scale of the features or consider increasing regularisation. Duality gap: 3.116e+12, tolerance: 6.279e+08 Linear regression models with null weight for the l1 regularization term are more efficiently fitted using one of the solvers implemented in sklearn.linear_model.Ridge/RidgeCV instead.\n",
      "  model = cd_fast.enet_coordinate_descent(\n",
      "/home/kjee/.local/lib/python3.9/site-packages/sklearn/linear_model/_coordinate_descent.py:631: ConvergenceWarning: Objective did not converge. You might want to increase the number of iterations, check the scale of the features or consider increasing regularisation. Duality gap: 3.114e+12, tolerance: 6.275e+08 Linear regression models with null weight for the l1 regularization term are more efficiently fitted using one of the solvers implemented in sklearn.linear_model.Ridge/RidgeCV instead.\n",
      "  model = cd_fast.enet_coordinate_descent(\n",
      "/home/kjee/.local/lib/python3.9/site-packages/sklearn/linear_model/_coordinate_descent.py:631: ConvergenceWarning: Objective did not converge. You might want to increase the number of iterations, check the scale of the features or consider increasing regularisation. Duality gap: 3.116e+12, tolerance: 6.279e+08 Linear regression models with null weight for the l1 regularization term are more efficiently fitted using one of the solvers implemented in sklearn.linear_model.Ridge/RidgeCV instead.\n",
      "  model = cd_fast.enet_coordinate_descent(\n",
      "/home/kjee/.local/lib/python3.9/site-packages/sklearn/linear_model/_coordinate_descent.py:631: ConvergenceWarning: Objective did not converge. You might want to increase the number of iterations, check the scale of the features or consider increasing regularisation. Duality gap: 3.141e+12, tolerance: 6.287e+08 Linear regression models with null weight for the l1 regularization term are more efficiently fitted using one of the solvers implemented in sklearn.linear_model.Ridge/RidgeCV instead.\n",
      "  model = cd_fast.enet_coordinate_descent(\n",
      "/home/kjee/.local/lib/python3.9/site-packages/sklearn/linear_model/_coordinate_descent.py:631: ConvergenceWarning: Objective did not converge. You might want to increase the number of iterations, check the scale of the features or consider increasing regularisation. Duality gap: 3.140e+12, tolerance: 6.285e+08 Linear regression models with null weight for the l1 regularization term are more efficiently fitted using one of the solvers implemented in sklearn.linear_model.Ridge/RidgeCV instead.\n",
      "  model = cd_fast.enet_coordinate_descent(\n",
      "/home/kjee/.local/lib/python3.9/site-packages/sklearn/linear_model/_coordinate_descent.py:631: ConvergenceWarning: Objective did not converge. You might want to increase the number of iterations, check the scale of the features or consider increasing regularisation. Duality gap: 3.137e+12, tolerance: 6.279e+08 Linear regression models with null weight for the l1 regularization term are more efficiently fitted using one of the solvers implemented in sklearn.linear_model.Ridge/RidgeCV instead.\n",
      "  model = cd_fast.enet_coordinate_descent(\n",
      "/home/kjee/.local/lib/python3.9/site-packages/sklearn/linear_model/_coordinate_descent.py:631: ConvergenceWarning: Objective did not converge. You might want to increase the number of iterations, check the scale of the features or consider increasing regularisation. Duality gap: 3.135e+12, tolerance: 6.275e+08 Linear regression models with null weight for the l1 regularization term are more efficiently fitted using one of the solvers implemented in sklearn.linear_model.Ridge/RidgeCV instead.\n",
      "  model = cd_fast.enet_coordinate_descent(\n",
      "/home/kjee/.local/lib/python3.9/site-packages/sklearn/linear_model/_coordinate_descent.py:631: ConvergenceWarning: Objective did not converge. You might want to increase the number of iterations, check the scale of the features or consider increasing regularisation. Duality gap: 3.137e+12, tolerance: 6.279e+08 Linear regression models with null weight for the l1 regularization term are more efficiently fitted using one of the solvers implemented in sklearn.linear_model.Ridge/RidgeCV instead.\n",
      "  model = cd_fast.enet_coordinate_descent(\n",
      "/home/kjee/.local/lib/python3.9/site-packages/sklearn/linear_model/_coordinate_descent.py:631: ConvergenceWarning: Objective did not converge. You might want to increase the number of iterations, check the scale of the features or consider increasing regularisation. Duality gap: 3.143e+12, tolerance: 6.287e+08 Linear regression models with null weight for the l1 regularization term are more efficiently fitted using one of the solvers implemented in sklearn.linear_model.Ridge/RidgeCV instead.\n",
      "  model = cd_fast.enet_coordinate_descent(\n",
      "/home/kjee/.local/lib/python3.9/site-packages/sklearn/linear_model/_coordinate_descent.py:631: ConvergenceWarning: Objective did not converge. You might want to increase the number of iterations, check the scale of the features or consider increasing regularisation. Duality gap: 3.142e+12, tolerance: 6.285e+08 Linear regression models with null weight for the l1 regularization term are more efficiently fitted using one of the solvers implemented in sklearn.linear_model.Ridge/RidgeCV instead.\n",
      "  model = cd_fast.enet_coordinate_descent(\n",
      "/home/kjee/.local/lib/python3.9/site-packages/sklearn/linear_model/_coordinate_descent.py:631: ConvergenceWarning: Objective did not converge. You might want to increase the number of iterations, check the scale of the features or consider increasing regularisation. Duality gap: 3.139e+12, tolerance: 6.279e+08 Linear regression models with null weight for the l1 regularization term are more efficiently fitted using one of the solvers implemented in sklearn.linear_model.Ridge/RidgeCV instead.\n",
      "  model = cd_fast.enet_coordinate_descent(\n",
      "/home/kjee/.local/lib/python3.9/site-packages/sklearn/linear_model/_coordinate_descent.py:631: ConvergenceWarning: Objective did not converge. You might want to increase the number of iterations, check the scale of the features or consider increasing regularisation. Duality gap: 3.137e+12, tolerance: 6.275e+08 Linear regression models with null weight for the l1 regularization term are more efficiently fitted using one of the solvers implemented in sklearn.linear_model.Ridge/RidgeCV instead.\n",
      "  model = cd_fast.enet_coordinate_descent(\n",
      "/home/kjee/.local/lib/python3.9/site-packages/sklearn/linear_model/_coordinate_descent.py:631: ConvergenceWarning: Objective did not converge. You might want to increase the number of iterations, check the scale of the features or consider increasing regularisation. Duality gap: 3.139e+12, tolerance: 6.279e+08 Linear regression models with null weight for the l1 regularization term are more efficiently fitted using one of the solvers implemented in sklearn.linear_model.Ridge/RidgeCV instead.\n",
      "  model = cd_fast.enet_coordinate_descent(\n",
      "/home/kjee/.local/lib/python3.9/site-packages/sklearn/linear_model/_coordinate_descent.py:631: ConvergenceWarning: Objective did not converge. You might want to increase the number of iterations, check the scale of the features or consider increasing regularisation. Duality gap: 3.143e+12, tolerance: 6.287e+08 Linear regression models with null weight for the l1 regularization term are more efficiently fitted using one of the solvers implemented in sklearn.linear_model.Ridge/RidgeCV instead.\n",
      "  model = cd_fast.enet_coordinate_descent(\n",
      "/home/kjee/.local/lib/python3.9/site-packages/sklearn/linear_model/_coordinate_descent.py:631: ConvergenceWarning: Objective did not converge. You might want to increase the number of iterations, check the scale of the features or consider increasing regularisation. Duality gap: 3.143e+12, tolerance: 6.285e+08 Linear regression models with null weight for the l1 regularization term are more efficiently fitted using one of the solvers implemented in sklearn.linear_model.Ridge/RidgeCV instead.\n",
      "  model = cd_fast.enet_coordinate_descent(\n",
      "/home/kjee/.local/lib/python3.9/site-packages/sklearn/linear_model/_coordinate_descent.py:631: ConvergenceWarning: Objective did not converge. You might want to increase the number of iterations, check the scale of the features or consider increasing regularisation. Duality gap: 3.139e+12, tolerance: 6.279e+08 Linear regression models with null weight for the l1 regularization term are more efficiently fitted using one of the solvers implemented in sklearn.linear_model.Ridge/RidgeCV instead.\n",
      "  model = cd_fast.enet_coordinate_descent(\n",
      "/home/kjee/.local/lib/python3.9/site-packages/sklearn/linear_model/_coordinate_descent.py:631: ConvergenceWarning: Objective did not converge. You might want to increase the number of iterations, check the scale of the features or consider increasing regularisation. Duality gap: 3.137e+12, tolerance: 6.275e+08 Linear regression models with null weight for the l1 regularization term are more efficiently fitted using one of the solvers implemented in sklearn.linear_model.Ridge/RidgeCV instead.\n",
      "  model = cd_fast.enet_coordinate_descent(\n",
      "/home/kjee/.local/lib/python3.9/site-packages/sklearn/linear_model/_coordinate_descent.py:631: ConvergenceWarning: Objective did not converge. You might want to increase the number of iterations, check the scale of the features or consider increasing regularisation. Duality gap: 3.139e+12, tolerance: 6.279e+08 Linear regression models with null weight for the l1 regularization term are more efficiently fitted using one of the solvers implemented in sklearn.linear_model.Ridge/RidgeCV instead.\n",
      "  model = cd_fast.enet_coordinate_descent(\n"
     ]
    },
    {
     "name": "stdout",
     "output_type": "stream",
     "text": [
      "Best alpha value: 0.01\n",
      "Best l1 ratio value: 1.0\n",
      "Best negative mean squared error: -7516693.501085868\n",
      "Best model test R^2 score: 0.6191051558281523\n"
     ]
    }
   ],
   "source": [
    "#Elastic net \n",
    "alpha_values = [1e-5, 1e-4, 1e-3, 1e-2, 1e-1, 1, 10, 100, 1000, 10000]\n",
    "l1_ratios = np.linspace(0, 1, 11) \n",
    "\n",
    "param_grid_en = {'alpha': alpha_values, 'l1_ratio': l1_ratios}\n",
    "grid_search_en = GridSearchCV(en_model, param_grid_en, cv=5, scoring='neg_mean_squared_error')\n",
    "grid_search_en.fit(X_rr_fin, y_rr_fin)\n",
    "test_score_en = grid_search_en.best_estimator_.score(X_rr_fin, y_rr_fin)\n",
    "\n",
    "\n",
    "print(f\"Best alpha value: {grid_search_en.best_params_['alpha']}\")\n",
    "print(f\"Best l1 ratio value: {grid_search_en.best_params_['l1_ratio']}\")\n",
    "print(f\"Best negative mean squared error: {grid_search_en.best_score_}\")\n",
    "print(f\"Best model test R^2 score: {test_score_en}\")\n"
   ]
  },
  {
   "cell_type": "code",
   "execution_count": 29,
   "metadata": {},
   "outputs": [
    {
     "name": "stdout",
     "output_type": "stream",
     "text": [
      "Best l1 ratio value: 1.0\n"
     ]
    }
   ],
   "source": [
    "print(f\"Best l1 ratio value: {grid_search_en.best_params_['l1_ratio']}\")\n"
   ]
  },
  {
   "attachments": {},
   "cell_type": "markdown",
   "metadata": {},
   "source": [
    "## Hyperparameter Tuning - SVM Regression\n",
    "\n",
    "Support Vector Machine (SVM) Regression is a versatile machine learning algorithm that can be used for both linear and non-linear regression tasks. It aims to find the best-fitting hyperplane that has the largest distance (margin) between the support vectors and the hyperplane.\n",
    "\n",
    "Relevant Parameters:\n",
    "\n",
    "- **kernel**: Specifies the kernel function to be used in the algorithm. Possible options are 'linear', 'poly', 'rbf', 'sigmoid', and 'precomputed'. The choice of the kernel function depends on the nature of the data and the problem to be solved.\n",
    "- **C**: Regularization parameter (also called the cost parameter); must be a positive float. It determines the trade-off between achieving a low training error and a low testing error. In other words, it controls the balance between overfitting and underfitting. A smaller value of C creates a wider margin, which may result in more training errors but better generalization to the test data. A larger value of C creates a narrower margin, which may result in fewer training errors but poorer generalization to the test data.\n",
    "- **degree**: The degree of the polynomial kernel function ('poly'). Ignored by all other kernels. It is the degree of the polynomial used for the 'poly' kernel and determines the flexibility of the model.\n",
    "- **gamma**: Kernel coefficient for 'rbf', 'poly', and 'sigmoid'. If gamma is 'scale' (default), then it is calculated as 1 / (n_features * X.var()) for the input data X. If gamma is 'auto', then it is calculated as 1/n_features. A smaller gamma value will produce a more flexible model, while a larger gamma value will produce a more rigid model.\n",
    "- **coef0**: Independent term in the kernel function. It is only significant in 'poly' and 'sigmoid'. It controls the influence of higher degree terms in the polynomial and sigmoid kernels.\n",
    "- **shrinking**: Whether to use the shrinking heuristic. The shrinking heuristic is a technique used to speed up training by removing some of the support vectors that are not necessary for the final solution. True by default.\n",
    "- **epsilon**: Epsilon parameter in the epsilon-SVR model. It specifies the epsilon-tube within which no penalty is associated with the training loss function on the prediction error. Larger values of epsilon result in more tolerance for errors.\n",
    "\n",
    "By tuning these parameters, you can find the best combination for your specific regression problem and achieve a better balance between model complexity and generalization performance.\n"
   ]
  },
  {
   "cell_type": "code",
   "execution_count": 30,
   "metadata": {},
   "outputs": [
    {
     "name": "stderr",
     "output_type": "stream",
     "text": [
      "/home/kjee/.local/lib/python3.9/site-packages/sklearn/utils/validation.py:1143: DataConversionWarning: A column-vector y was passed when a 1d array was expected. Please change the shape of y to (n_samples, ), for example using ravel().\n",
      "  y = column_or_1d(y, warn=True)\n",
      "/home/kjee/.local/lib/python3.9/site-packages/sklearn/utils/validation.py:1143: DataConversionWarning: A column-vector y was passed when a 1d array was expected. Please change the shape of y to (n_samples, ), for example using ravel().\n",
      "  y = column_or_1d(y, warn=True)\n",
      "/home/kjee/.local/lib/python3.9/site-packages/sklearn/utils/validation.py:1143: DataConversionWarning: A column-vector y was passed when a 1d array was expected. Please change the shape of y to (n_samples, ), for example using ravel().\n",
      "  y = column_or_1d(y, warn=True)\n",
      "/home/kjee/.local/lib/python3.9/site-packages/sklearn/utils/validation.py:1143: DataConversionWarning: A column-vector y was passed when a 1d array was expected. Please change the shape of y to (n_samples, ), for example using ravel().\n",
      "  y = column_or_1d(y, warn=True)\n",
      "/home/kjee/.local/lib/python3.9/site-packages/sklearn/utils/validation.py:1143: DataConversionWarning: A column-vector y was passed when a 1d array was expected. Please change the shape of y to (n_samples, ), for example using ravel().\n",
      "  y = column_or_1d(y, warn=True)\n"
     ]
    },
    {
     "name": "stdout",
     "output_type": "stream",
     "text": [
      "[-10478304.0185813  -10438306.63053724 -10543011.19265019\n",
      " -10571788.61762295 -10482778.03383217]\n"
     ]
    },
    {
     "data": {
      "text/plain": [
       "'param_grid = {\\n    \\'kernel\\': [\\'linear\\', \\'rbf\\'],\\n    \\'C\\': [0.1, 1, 10],\\n    \\'gamma\\': [\\'scale\\', \\'auto\\', 0.1, 1, 10]\\n}\\ngrid_search_svm = GridSearchCV(svr, param_grid, scoring=\\'neg_mean_squared_error\\', cv=5, n_jobs=-1, verbose=1)\\ngrid_search_svm.fit(X_rr_fin, y_rr_fin)\\ntest_score_svm = grid_search_svm.best_estimator_.score(X_rr_fin, y_rr_fin)\\n\\n\\nprint(f\"Best kernel value: {grid_search_svm.best_params_[\\'kernel\\']}\")\\nprint(f\"Best C value: {grid_search_svm.best_params_[\\'C\\']}\")\\nprint(f\"Best gamma value: {grid_search_svm.best_params_[\\'gamma\\']}\")\\nprint(f\"Best negative mean squared error: {grid_search_svm.best_score_}\")\\n'"
      ]
     },
     "execution_count": 30,
     "metadata": {},
     "output_type": "execute_result"
    }
   ],
   "source": [
    "#SVM Code \n",
    "from sklearn.svm import SVR\n",
    "\n",
    "svm_model = SVR(kernel='linear', C=1.0)\n",
    "svm_scores = cross_val_score(svm_model, X_rr_fin, y_rr_fin, cv=5,scoring='neg_mean_squared_error')\n",
    "print(svm_scores)\n",
    "\n",
    "\"\"\"param_grid = {\n",
    "    'kernel': ['linear', 'rbf'],\n",
    "    'C': [0.1, 1, 10],\n",
    "    'gamma': ['scale', 'auto', 0.1, 1, 10]\n",
    "}\n",
    "grid_search_svm = GridSearchCV(svr, param_grid, scoring='neg_mean_squared_error', cv=5, n_jobs=-1, verbose=1)\n",
    "grid_search_svm.fit(X_rr_fin, y_rr_fin)\n",
    "test_score_svm = grid_search_svm.best_estimator_.score(X_rr_fin, y_rr_fin)\n",
    "\n",
    "\n",
    "print(f\"Best kernel value: {grid_search_svm.best_params_['kernel']}\")\n",
    "print(f\"Best C value: {grid_search_svm.best_params_['C']}\")\n",
    "print(f\"Best gamma value: {grid_search_svm.best_params_['gamma']}\")\n",
    "print(f\"Best negative mean squared error: {grid_search_svm.best_score_}\")\n",
    "\"\"\""
   ]
  },
  {
   "cell_type": "code",
   "execution_count": 31,
   "metadata": {},
   "outputs": [],
   "source": [
    "######### No Data Manipulation (Decision Tree, Random Forest, XGBoost) ###############\n",
    "tree_pipe = Pipeline([\n",
    "    ('categorical_trans', category_preprocessor),\n",
    "    ('onehot', onehot_preprocessor)\n",
    "])\n",
    "\n",
    "X_tree = tree_pipe.fit_transform(X_train)"
   ]
  },
  {
   "attachments": {},
   "cell_type": "markdown",
   "metadata": {},
   "source": [
    "## Hyperparameter Tuning - Decision Tree\n",
    "\n",
    "Decision Trees are a popular machine learning algorithm used for both regression and classification tasks. They are easy to interpret and can naturally handle a mixture of continuous and categorical variables.\n",
    "\n",
    "Relevant Parameters:\n",
    "- **criterion**: The function to measure the quality of a split. Supported criteria for regression are 'mse' (mean squared error) and 'friedman_mse' (improvement in mean squared error). For classification, supported criteria are 'gini' and 'entropy'.\n",
    "- **splitter**: The strategy used to choose the split at each node. Supported strategies are 'best' to choose the best split and 'random' to choose the best random split.\n",
    "- **max_depth**: The maximum depth of the tree. If None, then nodes are expanded until all leaves are pure or until all leaves contain less than min_samples_split samples. Controlling the depth can help prevent overfitting.\n",
    "- **min_samples_split**: The minimum number of samples required to split an internal node. A larger value prevents the tree from growing too deep, thus preventing overfitting.\n",
    "- **min_samples_leaf**: The minimum number of samples required to be at a leaf node. A larger value prevents the tree from growing too deep, thus preventing overfitting.\n",
    "- **min_weight_fraction_leaf**: The minimum weighted fraction of the sum total of weights required to be at a leaf node. Samples have equal weight when sample_weight is not provided.\n",
    "- **max_features**: The number of features to consider when looking for the best split. If None, then max_features=n_features.\n",
    "- **max_leaf_nodes**: Grow a tree with max_leaf_nodes in best-first fashion. Best nodes are defined as relative reduction in impurity. If None, then unlimited number of leaf nodes.\n",
    "- **min_impurity_decrease**: A node will be split if this split induces a decrease of the impurity greater than or equal to this value.\n",
    "- **min_impurity_split**: Threshold for early stopping in tree growth. A node will split if its impurity is above the threshold, otherwise it is a leaf.\n",
    "\n",
    "By tuning these parameters, you can find the best combination for your specific problem and achieve a better balance between model complexity and generalization performance.\n"
   ]
  },
  {
   "cell_type": "code",
   "execution_count": 32,
   "metadata": {},
   "outputs": [
    {
     "name": "stdout",
     "output_type": "stream",
     "text": [
      "[-14580694.31561187 -14559593.94940835 -14815953.61983438\n",
      " -14852031.54953939 -14611572.68510791]\n"
     ]
    },
    {
     "data": {
      "text/plain": [
       "'\\nparam_grid = {\\n    \\'criterion\\': [\\'gini\\', \\'entropy\\'],\\n    \\'splitter\\': [\\'best\\', \\'random\\'],\\n    \\'max_depth\\': [None, 10, 20, 30, 40, 50],\\n    \\'min_samples_split\\': [2, 5, 10, 15, 20],\\n    \\'min_samples_leaf\\': [1, 2, 5, 10, 15],\\n    \\'min_weight_fraction_leaf\\': [0.0, 0.1, 0.2, 0.3, 0.4],\\n    \\'max_features\\': [None, \\'auto\\', \\'sqrt\\', \\'log2\\'],\\n    \\'max_leaf_nodes\\': [None, 10, 20, 30, 40, 50],\\n    \\'min_impurity_decrease\\': [0.0, 0.1, 0.2, 0.3, 0.4],\\n    \\'class_weight\\': [None, \\'balanced\\']\\n}\\n\\ngrid_search_dt = GridSearchCV(dt_model, param_grid_dt, scoring=\\'neg_mean_squared_error\\', cv=5, n_jobs=-1, verbose=1)\\ngrid_search_dt.fit(X_tree, y_train)\\ntest_score_dt = grid_search_dt.best_estimator_.score(X_tree, y_train)\\n\\nprint(f\"Best max_depth value: {grid_search_dt.best_params_[\\'max_depth\\']}\")\\nprint(f\"Best min_samples_split value: {grid_search_dt.best_params_[\\'min_samples_split\\']}\")\\nprint(f\"Best min_samples_leaf value: {grid_search_dt.best_params_[\\'min_samples_leaf\\']}\")\\nprint(f\"Best negative mean squared error: {grid_search_dt.best_score_}\")\\n'"
      ]
     },
     "execution_count": 32,
     "metadata": {},
     "output_type": "execute_result"
    }
   ],
   "source": [
    "#decision Tree model \n",
    "\n",
    "from sklearn.tree import DecisionTreeRegressor\n",
    "\n",
    "# Decision Tree\n",
    "dt_model = DecisionTreeRegressor()\n",
    "dt_scores = cross_val_score(dt_model, X_tree, y_train, cv=5, scoring='neg_mean_squared_error')\n",
    "print(dt_scores)\n",
    "\n",
    "\"\"\"\n",
    "param_grid = {\n",
    "    'criterion': ['gini', 'entropy'],\n",
    "    'splitter': ['best', 'random'],\n",
    "    'max_depth': [None, 10, 20, 30, 40, 50],\n",
    "    'min_samples_split': [2, 5, 10, 15, 20],\n",
    "    'min_samples_leaf': [1, 2, 5, 10, 15],\n",
    "    'min_weight_fraction_leaf': [0.0, 0.1, 0.2, 0.3, 0.4],\n",
    "    'max_features': [None, 'auto', 'sqrt', 'log2'],\n",
    "    'max_leaf_nodes': [None, 10, 20, 30, 40, 50],\n",
    "    'min_impurity_decrease': [0.0, 0.1, 0.2, 0.3, 0.4],\n",
    "    'class_weight': [None, 'balanced']\n",
    "}\n",
    "\n",
    "grid_search_dt = GridSearchCV(dt_model, param_grid_dt, scoring='neg_mean_squared_error', cv=5, n_jobs=-1, verbose=1)\n",
    "grid_search_dt.fit(X_tree, y_train)\n",
    "test_score_dt = grid_search_dt.best_estimator_.score(X_tree, y_train)\n",
    "\n",
    "print(f\"Best max_depth value: {grid_search_dt.best_params_['max_depth']}\")\n",
    "print(f\"Best min_samples_split value: {grid_search_dt.best_params_['min_samples_split']}\")\n",
    "print(f\"Best min_samples_leaf value: {grid_search_dt.best_params_['min_samples_leaf']}\")\n",
    "print(f\"Best negative mean squared error: {grid_search_dt.best_score_}\")\n",
    "\"\"\"\n"
   ]
  },
  {
   "attachments": {},
   "cell_type": "markdown",
   "metadata": {},
   "source": [
    "## Hyperparameter Tuning - Random Forest\n",
    "\n",
    "Random Forest is an ensemble learning method that constructs a multitude of decision trees at training time and outputs the mode of the classes (classification) or mean prediction (regression) of the individual trees. It is highly flexible and can handle a wide variety of tasks.\n",
    "\n",
    "Relevant Parameters:\n",
    "- **n_estimators**: The number of trees in the forest. Increasing the number of trees can improve the model's performance, but may also increase the computation time.\n",
    "- **criterion**: The function to measure the quality of a split. Supported criteria for regression are 'mse' (mean squared error) and 'mae' (mean absolute error). For classification, supported criteria are 'gini' and 'entropy'.\n",
    "- **max_depth**: The maximum depth of the tree. If None, then nodes are expanded until all leaves are pure or until all leaves contain less than min_samples_split samples. Controlling the depth can help prevent overfitting.\n",
    "- **min_samples_split**: The minimum number of samples required to split an internal node. A larger value prevents the tree from growing too deep, thus preventing overfitting.\n",
    "- **min_samples_leaf**: The minimum number of samples required to be at a leaf node. A larger value prevents the tree from growing too deep, thus preventing overfitting.\n",
    "- **min_weight_fraction_leaf**: The minimum weighted fraction of the sum total of weights required to be at a leaf node. Samples have equal weight when sample_weight is not provided.\n",
    "- **max_features**: The number of features to consider when looking for the best split. If None, then max_features=n_features. It can also be a float, int, or string ('auto', 'sqrt', or 'log2').\n",
    "- **max_leaf_nodes**: Grow a tree with max_leaf_nodes in best-first fashion. Best nodes are defined as relative reduction in impurity. If None, then unlimited number of leaf nodes.\n",
    "- **min_impurity_decrease**: A node will be split if this split induces a decrease of the impurity greater than or equal to this value.\n",
    "- **bootstrap**: Whether bootstrap samples are used when building trees. If False, the whole dataset is used to build each tree.\n",
    "- **oob_score**: Whether to use out-of-bag samples to estimate the generalization accuracy.\n",
    "\n",
    "By tuning these parameters, you can find the best combination for your specific problem and achieve a better balance between model complexity and generalization performance."
   ]
  },
  {
   "cell_type": "code",
   "execution_count": 33,
   "metadata": {},
   "outputs": [
    {
     "name": "stdout",
     "output_type": "stream",
     "text": [
      "[-9776669.96720507 -9717691.55464041 -9841291.06072307 -9867483.63379653\n",
      " -9673487.37217819]\n"
     ]
    },
    {
     "data": {
      "text/plain": [
       "'\\nparam_grid = {\\n    \\'n_estimators\\': [10, 50, 100, 200],\\n    \\'criterion\\': [\\'mse\\', \\'mae\\'],\\n    \\'max_depth\\': [None, 10, 20, 30, 40, 50],\\n    \\'min_samples_split\\': [2, 5, 10, 15, 20],\\n    \\'min_samples_leaf\\': [1, 2, 5, 10, 15],\\n    \\'min_weight_fraction_leaf\\': [0.0, 0.1, 0.2, 0.3, 0.4],\\n    \\'max_features\\': [None, \\'auto\\', \\'sqrt\\', \\'log2\\'],\\n    \\'max_leaf_nodes\\': [None, 10, 20, 30, 40, 50],\\n    \\'min_impurity_decrease\\': [0.0, 0.1, 0.2, 0.3, 0.4],\\n    \\'bootstrap\\': [True, False],\\n    \\'n_jobs\\': [-1]\\n}\\n\\ngrid_search_rf = GridSearchCV(rf_model, param_grid_rf, scoring=\\'neg_mean_squared_error\\', cv=5, n_jobs=-1, verbose=1)\\ngrid_search_rf.fit(X_tree, y_train)\\ntest_score_rf = grid_search_rf.best_estimator_.score(X_tree, y_train)\\n\\nprint(f\"Best n_estimators value: {grid_search_rf.best_params_[\\'n_estimators\\']}\")\\nprint(f\"Best max_depth value: {grid_search_rf.best_params_[\\'max_depth\\']}\")\\nprint(f\"Best min_samples_split value: {grid_search_rf.best_params_[\\'min_samples_split\\']}\")\\nprint(f\"Best min_samples_leaf value: {grid_search_rf.best_params_[\\'min_samples_leaf\\']}\")\\nprint(f\"Best max_features value: {grid_search_rf.best_params_[\\'max_features\\']}\")\\nprint(f\"Best bootstrap value: {grid_search_rf.best_params_[\\'bootstrap\\']}\")\\nprint(f\"Best negative mean squared error: {grid_search_rf.best_score_}\")\\n'"
      ]
     },
     "execution_count": 33,
     "metadata": {},
     "output_type": "execute_result"
    }
   ],
   "source": [
    "from sklearn.ensemble import RandomForestRegressor\n",
    "from sklearn.model_selection import cross_val_score, GridSearchCV\n",
    "\n",
    "# Random Forest Regressor\n",
    "rf_model = RandomForestRegressor(random_state=42)\n",
    "rf_scores = cross_val_score(rf_model, X_tree, y_train, cv=5, scoring='neg_mean_squared_error')\n",
    "print(rf_scores)\n",
    "\n",
    "\"\"\"\n",
    "param_grid = {\n",
    "    'n_estimators': [10, 50, 100, 200],\n",
    "    'criterion': ['mse', 'mae'],\n",
    "    'max_depth': [None, 10, 20, 30, 40, 50],\n",
    "    'min_samples_split': [2, 5, 10, 15, 20],\n",
    "    'min_samples_leaf': [1, 2, 5, 10, 15],\n",
    "    'min_weight_fraction_leaf': [0.0, 0.1, 0.2, 0.3, 0.4],\n",
    "    'max_features': [None, 'auto', 'sqrt', 'log2'],\n",
    "    'max_leaf_nodes': [None, 10, 20, 30, 40, 50],\n",
    "    'min_impurity_decrease': [0.0, 0.1, 0.2, 0.3, 0.4],\n",
    "    'bootstrap': [True, False],\n",
    "    'n_jobs': [-1]\n",
    "}\n",
    "\n",
    "grid_search_rf = GridSearchCV(rf_model, param_grid_rf, scoring='neg_mean_squared_error', cv=5, n_jobs=-1, verbose=1)\n",
    "grid_search_rf.fit(X_tree, y_train)\n",
    "test_score_rf = grid_search_rf.best_estimator_.score(X_tree, y_train)\n",
    "\n",
    "print(f\"Best n_estimators value: {grid_search_rf.best_params_['n_estimators']}\")\n",
    "print(f\"Best max_depth value: {grid_search_rf.best_params_['max_depth']}\")\n",
    "print(f\"Best min_samples_split value: {grid_search_rf.best_params_['min_samples_split']}\")\n",
    "print(f\"Best min_samples_leaf value: {grid_search_rf.best_params_['min_samples_leaf']}\")\n",
    "print(f\"Best max_features value: {grid_search_rf.best_params_['max_features']}\")\n",
    "print(f\"Best bootstrap value: {grid_search_rf.best_params_['bootstrap']}\")\n",
    "print(f\"Best negative mean squared error: {grid_search_rf.best_score_}\")\n",
    "\"\"\""
   ]
  },
  {
   "attachments": {},
   "cell_type": "markdown",
   "metadata": {},
   "source": [
    "## Hyperparameter Tuning - Gradient Boosted Regression\n",
    "\n",
    "Gradient Boosted Regression is an ensemble machine learning technique that builds a strong predictive model by combining a set of weak models (usually decision trees) in a sequential manner. At each iteration, a new weak model is added to the ensemble, and the existing models are updated to minimize the prediction errors.\n",
    "\n",
    "Relevant Parameters:\n",
    "- **n_estimators**: The number of boosting stages (trees) to be constructed. Increasing the number of trees can improve the model's performance, but it can also lead to overfitting if too many trees are added.\n",
    "- **learning_rate**: The rate at which the contribution of each tree is shrunk. A smaller learning rate requires more trees in the ensemble but often leads to a more accurate model.\n",
    "- **max_depth**: The maximum depth of the individual regression estimators (trees). Deeper trees can capture more complex patterns in the data, but they can also lead to overfitting. Shallower trees are more likely to underfit the data.\n",
    "- **min_samples_split**: The minimum number of samples required to split an internal node in the decision tree. Higher values help prevent overfitting by avoiding splits on small subsets of the data.\n",
    "- **min_samples_leaf**: The minimum number of samples required to be at a leaf node in the decision tree. Higher values help prevent overfitting by avoiding splits that result in small leaf nodes.\n",
    "- **max_features**: The number of features to consider when looking for the best split in the decision tree. Reducing the number of features can help prevent overfitting and reduce the computation time.\n",
    "- **subsample**: The fraction of samples to be used for fitting the individual base learners (trees). Smaller values introduce randomness and can help prevent overfitting. A value of 1.0 means all samples are used for each tree.\n",
    "- **loss**: The loss function to be optimized. Options include 'ls' (least squares), 'lad' (least absolute deviation), 'huber' (a combination of least squares and least absolute deviation), and 'quantile' (quantile regression). The choice of loss function depends on the specific problem and the desired robustness to outliers.\n",
    "\n",
    "By tuning these parameters, you can find the best combination for your specific regression problem and achieve a better balance between model complexity and generalization performance."
   ]
  },
  {
   "cell_type": "code",
   "execution_count": 34,
   "metadata": {},
   "outputs": [
    {
     "name": "stdout",
     "output_type": "stream",
     "text": [
      "[-9376363.26160314 -9296791.94147387 -9348482.6392767  -9367943.67449521\n",
      " -9336816.06006179]\n"
     ]
    },
    {
     "data": {
      "text/plain": [
       "'\\nparam_grid_gb = {\\n    \\'n_estimators\\': [10, 50, 100, 200],\\n    \\'learning_rate\\': [0.001, 0.01, 0.1, 0.2],\\n    \\'subsample\\': [0.5, 0.75, 1.0],\\n    \\'criterion\\': [\\'friedman_mse\\', \\'mse\\', \\'mae\\'],\\n    \\'min_samples_split\\': [2, 5, 10, 15, 20],\\n    \\'min_samples_leaf\\': [1, 2, 5, 10, 15],\\n    \\'min_weight_fraction_leaf\\': [0.0, 0.1, 0.2, 0.3, 0.4],\\n    \\'max_depth\\': [3, 10, 20, 30, 40, 50],\\n    \\'min_impurity_decrease\\': [0.0, 0.1, 0.2, 0.3, 0.4],\\n    \\'max_features\\': [None, \\'auto\\', \\'sqrt\\', \\'log2\\'],\\n    \\'max_leaf_nodes\\': [None, 10, 20, 30, 40, 50],\\n    \\'alpha\\': [0.1, 0.5, 0.9],\\n    \\'validation_fraction\\': [0.1, 0.2, 0.3],\\n    \\'n_iter_no_change\\': [None, 5, 10, 15],\\n    \\'tol\\': [1e-4, 1e-3, 1e-2, 1e-1]\\n}\\n\\ngrid_search_gb = GridSearchCV(gb_model, param_grid_gb, scoring=\\'neg_mean_squared_error\\', cv=5, n_jobs=-1, verbose=1)\\ngrid_search_gb.fit(X_tree, y_train)\\ntest_score_gb = grid_search_gb.best_estimator_.score(X_tree, y_train)\\n\\nprint(f\"Best n_estimators value: {grid_search_gb.best_params_[\\'n_estimators\\']}\")\\nprint(f\"Best learning_rate value: {grid_search_gb.best_params_[\\'learning_rate\\']}\")\\nprint(f\"Best max_depth value: {grid_search_gb.best_params_[\\'max_depth\\']}\")\\nprint(f\"Best min_samples_split value: {grid_search_gb.best_params_[\\'min_samples_split\\']}\")\\nprint(f\"Best min_samples_leaf value: {grid_search_gb.best_params_[\\'min_samples_leaf\\']}\")\\nprint(f\"Best negative mean squared error: {grid_search_gb.best_score_}\")\\n\\n'"
      ]
     },
     "execution_count": 34,
     "metadata": {},
     "output_type": "execute_result"
    }
   ],
   "source": [
    "from sklearn.ensemble import GradientBoostingRegressor\n",
    "\n",
    "# Gradient Boosting Regressor\n",
    "gb_model = GradientBoostingRegressor(random_state=42)\n",
    "gb_scores = cross_val_score(gb_model, X_tree, y_train, cv=5, scoring='neg_mean_squared_error')\n",
    "print(gb_scores)\n",
    "\n",
    "\"\"\"\n",
    "param_grid_gb = {\n",
    "    'n_estimators': [10, 50, 100, 200],\n",
    "    'learning_rate': [0.001, 0.01, 0.1, 0.2],\n",
    "    'subsample': [0.5, 0.75, 1.0],\n",
    "    'criterion': ['friedman_mse', 'mse', 'mae'],\n",
    "    'min_samples_split': [2, 5, 10, 15, 20],\n",
    "    'min_samples_leaf': [1, 2, 5, 10, 15],\n",
    "    'min_weight_fraction_leaf': [0.0, 0.1, 0.2, 0.3, 0.4],\n",
    "    'max_depth': [3, 10, 20, 30, 40, 50],\n",
    "    'min_impurity_decrease': [0.0, 0.1, 0.2, 0.3, 0.4],\n",
    "    'max_features': [None, 'auto', 'sqrt', 'log2'],\n",
    "    'max_leaf_nodes': [None, 10, 20, 30, 40, 50],\n",
    "    'alpha': [0.1, 0.5, 0.9],\n",
    "    'validation_fraction': [0.1, 0.2, 0.3],\n",
    "    'n_iter_no_change': [None, 5, 10, 15],\n",
    "    'tol': [1e-4, 1e-3, 1e-2, 1e-1]\n",
    "}\n",
    "\n",
    "grid_search_gb = GridSearchCV(gb_model, param_grid_gb, scoring='neg_mean_squared_error', cv=5, n_jobs=-1, verbose=1)\n",
    "grid_search_gb.fit(X_tree, y_train)\n",
    "test_score_gb = grid_search_gb.best_estimator_.score(X_tree, y_train)\n",
    "\n",
    "print(f\"Best n_estimators value: {grid_search_gb.best_params_['n_estimators']}\")\n",
    "print(f\"Best learning_rate value: {grid_search_gb.best_params_['learning_rate']}\")\n",
    "print(f\"Best max_depth value: {grid_search_gb.best_params_['max_depth']}\")\n",
    "print(f\"Best min_samples_split value: {grid_search_gb.best_params_['min_samples_split']}\")\n",
    "print(f\"Best min_samples_leaf value: {grid_search_gb.best_params_['min_samples_leaf']}\")\n",
    "print(f\"Best negative mean squared error: {grid_search_gb.best_score_}\")\n",
    "\n",
    "\"\"\""
   ]
  },
  {
   "attachments": {},
   "cell_type": "markdown",
   "metadata": {},
   "source": [
    "## Hyperparameter Tuning - XGBoost\n",
    "\n",
    "XGBoost (eXtreme Gradient Boosting) is an optimized distributed gradient boosting library designed to be highly efficient, flexible, and portable. It implements machine learning algorithms under the Gradient Boosting framework, offering several regularization techniques to prevent overfitting.\n",
    "\n",
    "Relevant Parameters:\n",
    "- **learning_rate**: Boosting learning rate. Controls the contribution of each tree in the ensemble. Lower learning rates lead to more robust models but require more trees (n_estimators).\n",
    "- **n_estimators**: Number of boosting rounds to be run. Larger values result in more complex models but can increase the risk of overfitting.\n",
    "- **max_depth**: Maximum tree depth for base learners. Controls the depth of each individual tree in the ensemble. Deeper trees can capture more complex patterns, but may also overfit the data.\n",
    "- **min_child_weight**: Minimum sum of instance weight (hessian) needed in a child. Defines the minimum number of instances required for a node to be split.\n",
    "- **gamma**: Minimum loss reduction required to make a further partition on a leaf node of the tree. Controls the complexity of the tree by reducing the number of splits made.\n",
    "- **subsample**: Subsample ratio of the training instances. Setting it to a value less than 1.0 can help prevent overfitting.\n",
    "- **colsample_bytree**: Subsample ratio of columns when constructing each tree. A smaller value can reduce overfitting and speed up the training process.\n",
    "- **colsample_bylevel**: Subsample ratio of columns for each level. Specifies the fraction of features to choose for each level in the tree building process.\n",
    "- **colsample_bynode**: Subsample ratio of columns for each split. Specifies the fraction of features to choose for each split in the tree building process.\n",
    "- **reg_alpha**: L1 regularization term on weights. Controls the sparsity of feature weights, effectively performing feature selection.\n",
    "- **reg_lambda**: L2 regularization term on weights. Smoothens the weights, preventing extreme values and reducing the risk of overfitting.\n",
    "\n",
    "By tuning these parameters, you can find the best combination for your specific problem and achieve a better balance between model complexity and generalization performance."
   ]
  },
  {
   "cell_type": "code",
   "execution_count": 35,
   "metadata": {},
   "outputs": [
    {
     "name": "stdout",
     "output_type": "stream",
     "text": [
      "[-8474467.84632277 -8337289.83554723 -8438951.98838967 -8474741.54863489\n",
      " -8335249.7428331 ]\n"
     ]
    },
    {
     "data": {
      "text/plain": [
       "'\\nparam_grid_xgb = {\\n    \\'n_estimators\\': [10, 50, 100, 200],\\n    \\'learning_rate\\': [0.001, 0.01, 0.1, 0.2],\\n    \\'max_depth\\': [3, 6, 9, 12],\\n    \\'min_child_weight\\': [1, 3, 5, 7],\\n    \\'gamma\\': [0.0, 0.1, 0.2, 0.3, 0.4],\\n    \\'subsample\\': [0.5, 0.75, 1.0],\\n    \\'colsample_bytree\\': [0.5, 0.75, 1.0],\\n    \\'reg_alpha\\': [0.0, 0.1, 0.5, 1.0],\\n    \\'reg_lambda\\': [0.0, 0.1, 0.5, 1.0],\\n    \\'scale_pos_weight\\': [1, 2, 3, 4],\\n    \\'booster\\': [\\'gbtree\\', \\'gblinear\\', \\'dart\\'],\\n    \\'tree_method\\': [\\'auto\\', \\'exact\\', \\'approx\\', \\'hist\\', \\'gpu_hist\\'],\\n    \\'grow_policy\\': [\\'depthwise\\', \\'lossguide\\'],\\n    \\'max_leaves\\': [0, 10, 20, 30, 40, 50],\\n    \\'sampling_method\\': [\\'uniform\\', \\'gradient_based\\']\\n}\\n\\nrandom_search_xgb = RandomizedSearchCV(xgb_model, param_grid_xgb, scoring=\\'neg_mean_squared_error\\', cv=5, n_jobs=-1, verbose=1, n_iter=50)\\nrandom_search_xgb.fit(X_tree, y_train)\\ntest_score_xgb = random_search_xgb.best_estimator_.score(X_tree, y_train)\\n\\nprint(f\"Best n_estimators value: {random_search_xgb.best_params_[\\'n_estimators\\']}\")\\nprint(f\"Best learning_rate value: {random_search_xgb.best_params_[\\'learning_rate\\']}\")\\nprint(f\"Best max_depth value: {random_search_xgb.best_params_[\\'max_depth\\']}\")\\nprint(f\"Best min_child_weight value: {random_search_xgb.best_params_[\\'min_child_weight\\']}\")\\nprint(f\"Best subsample value: {random_search_xgb.best_params_[\\'subsample\\']}\")\\nprint(f\"Best colsample_bytree value: {random_search_xgb.best_params_[\\'colsample_bytree\\']}\")\\nprint(f\"Best gamma value: {random_search_xgb.best_params_[\\'gamma\\']}\")\\nprint(f\"Best reg_alpha value: {random_search_xgb.best_params_[\\'reg_alpha\\']}\")\\nprint(f\"Best reg_lambda value: {random_search_xgb.best_params_[\\'reg_lambda\\']}\")\\nprint(f\"Best negative mean squared error: {random_search_xgb.best_score_}\")\\n'"
      ]
     },
     "execution_count": 35,
     "metadata": {},
     "output_type": "execute_result"
    }
   ],
   "source": [
    "from xgboost import XGBRegressor\n",
    "from sklearn.model_selection import RandomizedSearchCV, cross_val_score\n",
    "\n",
    "# XGBoost\n",
    "\n",
    "xgb_model = XGBRegressor(tree_method='gpu_hist')\n",
    "xgb_scores = cross_val_score(xgb_model, X_tree, y_train, cv=5, scoring='neg_mean_squared_error')\n",
    "print(xgb_scores)\n",
    "\n",
    "\"\"\"\n",
    "param_grid_xgb = {\n",
    "    'n_estimators': [10, 50, 100, 200],\n",
    "    'learning_rate': [0.001, 0.01, 0.1, 0.2],\n",
    "    'max_depth': [3, 6, 9, 12],\n",
    "    'min_child_weight': [1, 3, 5, 7],\n",
    "    'gamma': [0.0, 0.1, 0.2, 0.3, 0.4],\n",
    "    'subsample': [0.5, 0.75, 1.0],\n",
    "    'colsample_bytree': [0.5, 0.75, 1.0],\n",
    "    'reg_alpha': [0.0, 0.1, 0.5, 1.0],\n",
    "    'reg_lambda': [0.0, 0.1, 0.5, 1.0],\n",
    "    'scale_pos_weight': [1, 2, 3, 4],\n",
    "    'booster': ['gbtree', 'gblinear', 'dart'],\n",
    "    'tree_method': ['auto', 'exact', 'approx', 'hist', 'gpu_hist'],\n",
    "    'grow_policy': ['depthwise', 'lossguide'],\n",
    "    'max_leaves': [0, 10, 20, 30, 40, 50],\n",
    "    'sampling_method': ['uniform', 'gradient_based']\n",
    "}\n",
    "\n",
    "random_search_xgb = RandomizedSearchCV(xgb_model, param_grid_xgb, scoring='neg_mean_squared_error', cv=5, n_jobs=-1, verbose=1, n_iter=50)\n",
    "random_search_xgb.fit(X_tree, y_train)\n",
    "test_score_xgb = random_search_xgb.best_estimator_.score(X_tree, y_train)\n",
    "\n",
    "print(f\"Best n_estimators value: {random_search_xgb.best_params_['n_estimators']}\")\n",
    "print(f\"Best learning_rate value: {random_search_xgb.best_params_['learning_rate']}\")\n",
    "print(f\"Best max_depth value: {random_search_xgb.best_params_['max_depth']}\")\n",
    "print(f\"Best min_child_weight value: {random_search_xgb.best_params_['min_child_weight']}\")\n",
    "print(f\"Best subsample value: {random_search_xgb.best_params_['subsample']}\")\n",
    "print(f\"Best colsample_bytree value: {random_search_xgb.best_params_['colsample_bytree']}\")\n",
    "print(f\"Best gamma value: {random_search_xgb.best_params_['gamma']}\")\n",
    "print(f\"Best reg_alpha value: {random_search_xgb.best_params_['reg_alpha']}\")\n",
    "print(f\"Best reg_lambda value: {random_search_xgb.best_params_['reg_lambda']}\")\n",
    "print(f\"Best negative mean squared error: {random_search_xgb.best_score_}\")\n",
    "\"\"\""
   ]
  },
  {
   "cell_type": "code",
   "execution_count": 36,
   "metadata": {},
   "outputs": [],
   "source": [
    "#########Data Impuation & Scaling (KNN, Clustering, ANN) ###############\n",
    "knn_pipe = Pipeline([\n",
    "    ('impute_trans', impute_preprocessor),\n",
    "    ('categorical_trans', category_preprocessor),\n",
    "    ('feat_scaling', scaling_preprocessor),\n",
    "    ('onehot', onehot_preprocessor)\n",
    "])\n",
    "\n",
    "X_knn = knn_pipe.fit_transform(X_train)"
   ]
  },
  {
   "attachments": {},
   "cell_type": "markdown",
   "metadata": {},
   "source": [
    "## Hyperparameter Tuning - KNN\n",
    "\n",
    "k-Nearest Neighbors (KNN) is a simple, yet powerful, non-parametric supervised learning algorithm used for classification and regression. It assigns a new instance to the majority class or computes the mean (for regression tasks) of its k nearest neighbors in the feature space.\n",
    "\n",
    "Relevant Parameters:\n",
    "- **n_neighbors**: Number of neighbors to use for the query. This is the main hyperparameter controlling the complexity of the KNN model. Larger values of k lead to smoother decision boundaries, while smaller values can capture more complex patterns but may overfit the data.\n",
    "- **weights**: Weight function used in prediction. There are two options: 'uniform' (all points in each neighborhood are weighted equally) and 'distance' (assign weights proportional to the inverse of the distance from the query point). Using 'distance' can help reduce the impact of noise in the data.\n",
    "- **algorithm**: Algorithm used to compute the nearest neighbors. Options include 'auto', 'ball_tree', 'kd_tree', and 'brute'. 'auto' will attempt to decide the most appropriate algorithm based on the values passed to fit() method. Choose the algorithm that best suits your data and computational requirements.\n",
    "- **leaf_size**: Leaf size passed to BallTree or KDTree. This can affect the speed of the construction and query, as well as the memory required to store the tree. The optimal value depends on the nature of the problem.\n",
    "- **p**: Power parameter for the Minkowski metric. When p = 1, this is equivalent to using manhattan_distance (l1), and for p = 2, it's equivalent to using euclidean_distance (l2). A larger value of p can help capture the specific geometry of your feature space.\n",
    "\n",
    "By tuning these parameters, you can find the best combination for your specific problem and achieve a better balance between model complexity and generalization performance."
   ]
  },
  {
   "cell_type": "code",
   "execution_count": 37,
   "metadata": {},
   "outputs": [
    {
     "name": "stdout",
     "output_type": "stream",
     "text": [
      "[-10171022.76076127 -10137290.21508857 -10157129.61533172\n",
      " -10233634.94187408 -10025667.41653267]\n"
     ]
    },
    {
     "data": {
      "text/plain": [
       "'\\nparam_grid_knn = {\\n    \\'n_neighbors\\': [3, 5, 7, 9, 11],\\n    \\'weights\\': [\\'uniform\\', \\'distance\\'],\\n    \\'metric\\': [\\'euclidean\\', \\'manhattan\\', \\'minkowski\\']\\n}\\n\\ngrid_search_knn = GridSearchCV(knn_model, param_grid_knn, scoring=\\'neg_mean_squared_error\\', cv=5, n_jobs=-1, verbose=1)\\ngrid_search_knn.fit(X_knn, y_train)\\ntest_score_knn = grid_search_knn.best_estimator_.score(X_knn, y_train)\\n\\nprint(f\"Best n_neighbors value: {grid_search_knn.best_params_[\\'n_neighbors\\']}\")\\nprint(f\"Best weights value: {grid_search_knn.best_params_[\\'weights\\']}\")\\nprint(f\"Best metric value: {grid_search_knn.best_params_[\\'metric\\']}\")\\nprint(f\"Best negative mean squared error: {grid_search_knn.best_score_}\")\\n'"
      ]
     },
     "execution_count": 37,
     "metadata": {},
     "output_type": "execute_result"
    }
   ],
   "source": [
    "from sklearn.neighbors import KNeighborsRegressor\n",
    "\n",
    "# KNN\n",
    "knn_model = KNeighborsRegressor()\n",
    "knn_scores = cross_val_score(knn_model, X_knn, y_train, cv=5, scoring='neg_mean_squared_error')\n",
    "print(knn_scores)\n",
    "\n",
    "\"\"\"\n",
    "param_grid_knn = {\n",
    "    'n_neighbors': [3, 5, 7, 9, 11],\n",
    "    'weights': ['uniform', 'distance'],\n",
    "    'metric': ['euclidean', 'manhattan', 'minkowski']\n",
    "}\n",
    "\n",
    "grid_search_knn = GridSearchCV(knn_model, param_grid_knn, scoring='neg_mean_squared_error', cv=5, n_jobs=-1, verbose=1)\n",
    "grid_search_knn.fit(X_knn, y_train)\n",
    "test_score_knn = grid_search_knn.best_estimator_.score(X_knn, y_train)\n",
    "\n",
    "print(f\"Best n_neighbors value: {grid_search_knn.best_params_['n_neighbors']}\")\n",
    "print(f\"Best weights value: {grid_search_knn.best_params_['weights']}\")\n",
    "print(f\"Best metric value: {grid_search_knn.best_params_['metric']}\")\n",
    "print(f\"Best negative mean squared error: {grid_search_knn.best_score_}\")\n",
    "\"\"\""
   ]
  },
  {
   "attachments": {},
   "cell_type": "markdown",
   "metadata": {},
   "source": [
    "## Hyperparameter Tuning - MLP Regression\n",
    "\n",
    "Multilayer Perceptron (MLP) Regression is a type of feedforward artificial neural network that can be used for regression tasks. MLPs consist of an input layer, one or more hidden layers, and an output layer. They learn to map input features to output values by adjusting the weights and biases of the network through a process called backpropagation.\n",
    "\n",
    "Relevant Parameters:\n",
    "- **hidden_layer_sizes**: The number of hidden layers and the number of neurons in each hidden layer. This is specified as a tuple, e.g., (100,) means one hidden layer with 100 neurons, and (50, 50) means two hidden layers, each with 50 neurons. The choice of hidden layers and neurons can greatly impact the model's complexity and generalization performance.\n",
    "- **activation**: The activation function used for the hidden layers. Options include 'identity', 'logistic' (sigmoid), 'tanh', and 'relu' (rectified linear unit). The choice of activation function depends on the specific problem and the desired non-linearity in the model.\n",
    "- **solver**: The optimization algorithm used for weight and bias updates. Options include 'lbfgs', 'sgd' (stochastic gradient descent), and 'adam'. The choice of solver depends on the size and structure of the data and the desired computational efficiency.\n",
    "- **alpha**: L2 regularization parameter (also called the weight decay). A positive float value that adds a penalty term to the loss function, helping to prevent overfitting by reducing the magnitude of the weights.\n",
    "- **batch_size**: The size of the minibatches used for stochastic optimization. A smaller batch size introduces more randomness into the optimization process, which can help prevent overfitting and escape local minima.\n",
    "- **learning_rate**: The learning rate schedule for weight updates. Options include 'constant', 'invscaling', and 'adaptive'. The choice of learning rate schedule depends on the solver and the desired convergence behavior.\n",
    "- **learning_rate_init**: The initial learning rate used for weight updates. A smaller learning rate requires more iterations to converge but can result in a more accurate model.\n",
    "- **max_iter**: The maximum number of iterations for the solver. Increasing the number of iterations can improve the model's performance, but it can also lead to overfitting if too many iterations are used.\n",
    "\n",
    "By tuning these parameters, you can find the best combination for your specific regression problem and achieve a better balance between model complexity and generalization performance."
   ]
  },
  {
   "cell_type": "code",
   "execution_count": 38,
   "metadata": {},
   "outputs": [
    {
     "name": "stderr",
     "output_type": "stream",
     "text": [
      "/home/kjee/.local/lib/python3.9/site-packages/sklearn/neural_network/_multilayer_perceptron.py:686: ConvergenceWarning: Stochastic Optimizer: Maximum iterations (200) reached and the optimization hasn't converged yet.\n",
      "  warnings.warn(\n",
      "/home/kjee/.local/lib/python3.9/site-packages/sklearn/neural_network/_multilayer_perceptron.py:686: ConvergenceWarning: Stochastic Optimizer: Maximum iterations (200) reached and the optimization hasn't converged yet.\n",
      "  warnings.warn(\n",
      "/home/kjee/.local/lib/python3.9/site-packages/sklearn/neural_network/_multilayer_perceptron.py:686: ConvergenceWarning: Stochastic Optimizer: Maximum iterations (200) reached and the optimization hasn't converged yet.\n",
      "  warnings.warn(\n",
      "/home/kjee/.local/lib/python3.9/site-packages/sklearn/neural_network/_multilayer_perceptron.py:686: ConvergenceWarning: Stochastic Optimizer: Maximum iterations (200) reached and the optimization hasn't converged yet.\n",
      "  warnings.warn(\n",
      "/home/kjee/.local/lib/python3.9/site-packages/sklearn/neural_network/_multilayer_perceptron.py:686: ConvergenceWarning: Stochastic Optimizer: Maximum iterations (200) reached and the optimization hasn't converged yet.\n",
      "  warnings.warn(\n"
     ]
    },
    {
     "name": "stdout",
     "output_type": "stream",
     "text": [
      "[-8743081.13510717 -8663839.80750094 -8674514.68097197 -8768216.84234858\n",
      " -8668067.28328911]\n"
     ]
    },
    {
     "data": {
      "text/plain": [
       "'param_grid_ann = {\\n    \\'hidden_layer_sizes\\': [(50,), (100,), (50, 50), (100, 100)],\\n    \\'activation\\': [\\'identity\\', \\'logistic\\', \\'tanh\\', \\'relu\\'],\\n    \\'solver\\': [\\'lbfgs\\', \\'sgd\\', \\'adam\\'],\\n    \\'alpha\\': [0.0001, 0.001, 0.01, 0.1],\\n    \\'learning_rate\\': [\\'constant\\', \\'invscaling\\', \\'adaptive\\']\\n}\\n\\ngrid_search_ann = GridSearchCV(ann_model, param_grid_ann, scoring=\\'neg_mean_squared_error\\', cv=5, n_jobs=-1, verbose=1)\\ngrid_search_ann.fit(X_tree, y_train)\\ntest_score_ann = grid_search_ann.best_estimator_.score(X_tree, y_train)\\n\\nprint(f\"Best hidden_layer_sizes value: {grid_search_ann.best_params_[\\'hidden_layer_sizes\\']}\")\\nprint(f\"Best activation value: {grid_search_ann.best_params_[\\'activation\\']}\")\\nprint(f\"Best solver value: {grid_search_ann.best_params_[\\'solver\\']}\")\\nprint(f\"Best alpha value: {grid_search_ann.best_params_[\\'alpha\\']}\")\\nprint(f\"Best learning_rate value: {grid_search_ann.best_params_[\\'learning_rate\\']}\")\\nprint(f\"Best negative mean squared error: {grid_search_ann.best_score_}\")\\n'"
      ]
     },
     "execution_count": 38,
     "metadata": {},
     "output_type": "execute_result"
    }
   ],
   "source": [
    "from sklearn.neural_network import MLPRegressor\n",
    "\n",
    "# ANN\n",
    "ann_model = MLPRegressor(random_state=42)\n",
    "ann_scores = cross_val_score(ann_model, X_tree, y_train, cv=5, scoring='neg_mean_squared_error')\n",
    "print(ann_scores)\n",
    "\n",
    "\"\"\"param_grid_ann = {\n",
    "    'hidden_layer_sizes': [(50,), (100,), (50, 50), (100, 100)],\n",
    "    'activation': ['identity', 'logistic', 'tanh', 'relu'],\n",
    "    'solver': ['lbfgs', 'sgd', 'adam'],\n",
    "    'alpha': [0.0001, 0.001, 0.01, 0.1],\n",
    "    'learning_rate': ['constant', 'invscaling', 'adaptive']\n",
    "}\n",
    "\n",
    "grid_search_ann = GridSearchCV(ann_model, param_grid_ann, scoring='neg_mean_squared_error', cv=5, n_jobs=-1, verbose=1)\n",
    "grid_search_ann.fit(X_tree, y_train)\n",
    "test_score_ann = grid_search_ann.best_estimator_.score(X_tree, y_train)\n",
    "\n",
    "print(f\"Best hidden_layer_sizes value: {grid_search_ann.best_params_['hidden_layer_sizes']}\")\n",
    "print(f\"Best activation value: {grid_search_ann.best_params_['activation']}\")\n",
    "print(f\"Best solver value: {grid_search_ann.best_params_['solver']}\")\n",
    "print(f\"Best alpha value: {grid_search_ann.best_params_['alpha']}\")\n",
    "print(f\"Best learning_rate value: {grid_search_ann.best_params_['learning_rate']}\")\n",
    "print(f\"Best negative mean squared error: {grid_search_ann.best_score_}\")\n",
    "\"\"\""
   ]
  },
  {
   "cell_type": "code",
   "execution_count": 39,
   "metadata": {},
   "outputs": [
    {
     "name": "stderr",
     "output_type": "stream",
     "text": [
      "/home/kjee/.local/lib/python3.9/site-packages/sklearn/preprocessing/_encoders.py:202: UserWarning: Found unknown categories in columns [5, 6] during transform. These unknown categories will be encoded as all zeros\n",
      "  warnings.warn(\n"
     ]
    }
   ],
   "source": [
    "\n",
    "x_test_reg = reg_pipe.transform(X_test)\n",
    "x_test_rr = rr_pipe.transform(X_test)\n",
    "x_test_Tree = tree_pipe.transform(X_test)\n",
    "x_test_knn = knn_pipe.transform(X_test)"
   ]
  },
  {
   "cell_type": "code",
   "execution_count": 40,
   "metadata": {},
   "outputs": [
    {
     "data": {
      "text/html": [
       "<style>#sk-container-id-2 {color: black;background-color: white;}#sk-container-id-2 pre{padding: 0;}#sk-container-id-2 div.sk-toggleable {background-color: white;}#sk-container-id-2 label.sk-toggleable__label {cursor: pointer;display: block;width: 100%;margin-bottom: 0;padding: 0.3em;box-sizing: border-box;text-align: center;}#sk-container-id-2 label.sk-toggleable__label-arrow:before {content: \"▸\";float: left;margin-right: 0.25em;color: #696969;}#sk-container-id-2 label.sk-toggleable__label-arrow:hover:before {color: black;}#sk-container-id-2 div.sk-estimator:hover label.sk-toggleable__label-arrow:before {color: black;}#sk-container-id-2 div.sk-toggleable__content {max-height: 0;max-width: 0;overflow: hidden;text-align: left;background-color: #f0f8ff;}#sk-container-id-2 div.sk-toggleable__content pre {margin: 0.2em;color: black;border-radius: 0.25em;background-color: #f0f8ff;}#sk-container-id-2 input.sk-toggleable__control:checked~div.sk-toggleable__content {max-height: 200px;max-width: 100%;overflow: auto;}#sk-container-id-2 input.sk-toggleable__control:checked~label.sk-toggleable__label-arrow:before {content: \"▾\";}#sk-container-id-2 div.sk-estimator input.sk-toggleable__control:checked~label.sk-toggleable__label {background-color: #d4ebff;}#sk-container-id-2 div.sk-label input.sk-toggleable__control:checked~label.sk-toggleable__label {background-color: #d4ebff;}#sk-container-id-2 input.sk-hidden--visually {border: 0;clip: rect(1px 1px 1px 1px);clip: rect(1px, 1px, 1px, 1px);height: 1px;margin: -1px;overflow: hidden;padding: 0;position: absolute;width: 1px;}#sk-container-id-2 div.sk-estimator {font-family: monospace;background-color: #f0f8ff;border: 1px dotted black;border-radius: 0.25em;box-sizing: border-box;margin-bottom: 0.5em;}#sk-container-id-2 div.sk-estimator:hover {background-color: #d4ebff;}#sk-container-id-2 div.sk-parallel-item::after {content: \"\";width: 100%;border-bottom: 1px solid gray;flex-grow: 1;}#sk-container-id-2 div.sk-label:hover label.sk-toggleable__label {background-color: #d4ebff;}#sk-container-id-2 div.sk-serial::before {content: \"\";position: absolute;border-left: 1px solid gray;box-sizing: border-box;top: 0;bottom: 0;left: 50%;z-index: 0;}#sk-container-id-2 div.sk-serial {display: flex;flex-direction: column;align-items: center;background-color: white;padding-right: 0.2em;padding-left: 0.2em;position: relative;}#sk-container-id-2 div.sk-item {position: relative;z-index: 1;}#sk-container-id-2 div.sk-parallel {display: flex;align-items: stretch;justify-content: center;background-color: white;position: relative;}#sk-container-id-2 div.sk-item::before, #sk-container-id-2 div.sk-parallel-item::before {content: \"\";position: absolute;border-left: 1px solid gray;box-sizing: border-box;top: 0;bottom: 0;left: 50%;z-index: -1;}#sk-container-id-2 div.sk-parallel-item {display: flex;flex-direction: column;z-index: 1;position: relative;background-color: white;}#sk-container-id-2 div.sk-parallel-item:first-child::after {align-self: flex-end;width: 50%;}#sk-container-id-2 div.sk-parallel-item:last-child::after {align-self: flex-start;width: 50%;}#sk-container-id-2 div.sk-parallel-item:only-child::after {width: 0;}#sk-container-id-2 div.sk-dashed-wrapped {border: 1px dashed gray;margin: 0 0.4em 0.5em 0.4em;box-sizing: border-box;padding-bottom: 0.4em;background-color: white;}#sk-container-id-2 div.sk-label label {font-family: monospace;font-weight: bold;display: inline-block;line-height: 1.2em;}#sk-container-id-2 div.sk-label-container {text-align: center;}#sk-container-id-2 div.sk-container {/* jupyter's `normalize.less` sets `[hidden] { display: none; }` but bootstrap.min.css set `[hidden] { display: none !important; }` so we also need the `!important` here to be able to override the default hidden behavior on the sphinx rendered scikit-learn.org. See: https://github.com/scikit-learn/scikit-learn/issues/21755 */display: inline-block !important;position: relative;}#sk-container-id-2 div.sk-text-repr-fallback {display: none;}</style><div id=\"sk-container-id-2\" class=\"sk-top-container\"><div class=\"sk-text-repr-fallback\"><pre>ElasticNet()</pre><b>In a Jupyter environment, please rerun this cell to show the HTML representation or trust the notebook. <br />On GitHub, the HTML representation is unable to render, please try loading this page with nbviewer.org.</b></div><div class=\"sk-container\" hidden><div class=\"sk-item\"><div class=\"sk-estimator sk-toggleable\"><input class=\"sk-toggleable__control sk-hidden--visually\" id=\"sk-estimator-id-2\" type=\"checkbox\" checked><label for=\"sk-estimator-id-2\" class=\"sk-toggleable__label sk-toggleable__label-arrow\">ElasticNet</label><div class=\"sk-toggleable__content\"><pre>ElasticNet()</pre></div></div></div></div></div>"
      ],
      "text/plain": [
       "ElasticNet()"
      ]
     },
     "execution_count": 40,
     "metadata": {},
     "output_type": "execute_result"
    }
   ],
   "source": [
    "model_lr.fit(X_Reg_fin, y_reg_fin)\n",
    "lasso_model.fit(X_rr_fin, y_rr_fin) \n",
    "ridge_model.fit(X_rr_fin, y_rr_fin) \n",
    "en_model.fit(X_rr_fin, y_rr_fin) "
   ]
  },
  {
   "cell_type": "code",
   "execution_count": 41,
   "metadata": {},
   "outputs": [
    {
     "name": "stderr",
     "output_type": "stream",
     "text": [
      "/home/kjee/.local/lib/python3.9/site-packages/sklearn/utils/validation.py:1143: DataConversionWarning: A column-vector y was passed when a 1d array was expected. Please change the shape of y to (n_samples, ), for example using ravel().\n",
      "  y = column_or_1d(y, warn=True)\n"
     ]
    },
    {
     "data": {
      "text/html": [
       "<style>#sk-container-id-3 {color: black;background-color: white;}#sk-container-id-3 pre{padding: 0;}#sk-container-id-3 div.sk-toggleable {background-color: white;}#sk-container-id-3 label.sk-toggleable__label {cursor: pointer;display: block;width: 100%;margin-bottom: 0;padding: 0.3em;box-sizing: border-box;text-align: center;}#sk-container-id-3 label.sk-toggleable__label-arrow:before {content: \"▸\";float: left;margin-right: 0.25em;color: #696969;}#sk-container-id-3 label.sk-toggleable__label-arrow:hover:before {color: black;}#sk-container-id-3 div.sk-estimator:hover label.sk-toggleable__label-arrow:before {color: black;}#sk-container-id-3 div.sk-toggleable__content {max-height: 0;max-width: 0;overflow: hidden;text-align: left;background-color: #f0f8ff;}#sk-container-id-3 div.sk-toggleable__content pre {margin: 0.2em;color: black;border-radius: 0.25em;background-color: #f0f8ff;}#sk-container-id-3 input.sk-toggleable__control:checked~div.sk-toggleable__content {max-height: 200px;max-width: 100%;overflow: auto;}#sk-container-id-3 input.sk-toggleable__control:checked~label.sk-toggleable__label-arrow:before {content: \"▾\";}#sk-container-id-3 div.sk-estimator input.sk-toggleable__control:checked~label.sk-toggleable__label {background-color: #d4ebff;}#sk-container-id-3 div.sk-label input.sk-toggleable__control:checked~label.sk-toggleable__label {background-color: #d4ebff;}#sk-container-id-3 input.sk-hidden--visually {border: 0;clip: rect(1px 1px 1px 1px);clip: rect(1px, 1px, 1px, 1px);height: 1px;margin: -1px;overflow: hidden;padding: 0;position: absolute;width: 1px;}#sk-container-id-3 div.sk-estimator {font-family: monospace;background-color: #f0f8ff;border: 1px dotted black;border-radius: 0.25em;box-sizing: border-box;margin-bottom: 0.5em;}#sk-container-id-3 div.sk-estimator:hover {background-color: #d4ebff;}#sk-container-id-3 div.sk-parallel-item::after {content: \"\";width: 100%;border-bottom: 1px solid gray;flex-grow: 1;}#sk-container-id-3 div.sk-label:hover label.sk-toggleable__label {background-color: #d4ebff;}#sk-container-id-3 div.sk-serial::before {content: \"\";position: absolute;border-left: 1px solid gray;box-sizing: border-box;top: 0;bottom: 0;left: 50%;z-index: 0;}#sk-container-id-3 div.sk-serial {display: flex;flex-direction: column;align-items: center;background-color: white;padding-right: 0.2em;padding-left: 0.2em;position: relative;}#sk-container-id-3 div.sk-item {position: relative;z-index: 1;}#sk-container-id-3 div.sk-parallel {display: flex;align-items: stretch;justify-content: center;background-color: white;position: relative;}#sk-container-id-3 div.sk-item::before, #sk-container-id-3 div.sk-parallel-item::before {content: \"\";position: absolute;border-left: 1px solid gray;box-sizing: border-box;top: 0;bottom: 0;left: 50%;z-index: -1;}#sk-container-id-3 div.sk-parallel-item {display: flex;flex-direction: column;z-index: 1;position: relative;background-color: white;}#sk-container-id-3 div.sk-parallel-item:first-child::after {align-self: flex-end;width: 50%;}#sk-container-id-3 div.sk-parallel-item:last-child::after {align-self: flex-start;width: 50%;}#sk-container-id-3 div.sk-parallel-item:only-child::after {width: 0;}#sk-container-id-3 div.sk-dashed-wrapped {border: 1px dashed gray;margin: 0 0.4em 0.5em 0.4em;box-sizing: border-box;padding-bottom: 0.4em;background-color: white;}#sk-container-id-3 div.sk-label label {font-family: monospace;font-weight: bold;display: inline-block;line-height: 1.2em;}#sk-container-id-3 div.sk-label-container {text-align: center;}#sk-container-id-3 div.sk-container {/* jupyter's `normalize.less` sets `[hidden] { display: none; }` but bootstrap.min.css set `[hidden] { display: none !important; }` so we also need the `!important` here to be able to override the default hidden behavior on the sphinx rendered scikit-learn.org. See: https://github.com/scikit-learn/scikit-learn/issues/21755 */display: inline-block !important;position: relative;}#sk-container-id-3 div.sk-text-repr-fallback {display: none;}</style><div id=\"sk-container-id-3\" class=\"sk-top-container\"><div class=\"sk-text-repr-fallback\"><pre>SVR(kernel=&#x27;linear&#x27;)</pre><b>In a Jupyter environment, please rerun this cell to show the HTML representation or trust the notebook. <br />On GitHub, the HTML representation is unable to render, please try loading this page with nbviewer.org.</b></div><div class=\"sk-container\" hidden><div class=\"sk-item\"><div class=\"sk-estimator sk-toggleable\"><input class=\"sk-toggleable__control sk-hidden--visually\" id=\"sk-estimator-id-3\" type=\"checkbox\" checked><label for=\"sk-estimator-id-3\" class=\"sk-toggleable__label sk-toggleable__label-arrow\">SVR</label><div class=\"sk-toggleable__content\"><pre>SVR(kernel=&#x27;linear&#x27;)</pre></div></div></div></div></div>"
      ],
      "text/plain": [
       "SVR(kernel='linear')"
      ]
     },
     "execution_count": 41,
     "metadata": {},
     "output_type": "execute_result"
    }
   ],
   "source": [
    "svm_model.fit(X_rr_fin, y_rr_fin) "
   ]
  },
  {
   "cell_type": "code",
   "execution_count": 42,
   "metadata": {},
   "outputs": [
    {
     "data": {
      "text/html": [
       "<style>#sk-container-id-4 {color: black;background-color: white;}#sk-container-id-4 pre{padding: 0;}#sk-container-id-4 div.sk-toggleable {background-color: white;}#sk-container-id-4 label.sk-toggleable__label {cursor: pointer;display: block;width: 100%;margin-bottom: 0;padding: 0.3em;box-sizing: border-box;text-align: center;}#sk-container-id-4 label.sk-toggleable__label-arrow:before {content: \"▸\";float: left;margin-right: 0.25em;color: #696969;}#sk-container-id-4 label.sk-toggleable__label-arrow:hover:before {color: black;}#sk-container-id-4 div.sk-estimator:hover label.sk-toggleable__label-arrow:before {color: black;}#sk-container-id-4 div.sk-toggleable__content {max-height: 0;max-width: 0;overflow: hidden;text-align: left;background-color: #f0f8ff;}#sk-container-id-4 div.sk-toggleable__content pre {margin: 0.2em;color: black;border-radius: 0.25em;background-color: #f0f8ff;}#sk-container-id-4 input.sk-toggleable__control:checked~div.sk-toggleable__content {max-height: 200px;max-width: 100%;overflow: auto;}#sk-container-id-4 input.sk-toggleable__control:checked~label.sk-toggleable__label-arrow:before {content: \"▾\";}#sk-container-id-4 div.sk-estimator input.sk-toggleable__control:checked~label.sk-toggleable__label {background-color: #d4ebff;}#sk-container-id-4 div.sk-label input.sk-toggleable__control:checked~label.sk-toggleable__label {background-color: #d4ebff;}#sk-container-id-4 input.sk-hidden--visually {border: 0;clip: rect(1px 1px 1px 1px);clip: rect(1px, 1px, 1px, 1px);height: 1px;margin: -1px;overflow: hidden;padding: 0;position: absolute;width: 1px;}#sk-container-id-4 div.sk-estimator {font-family: monospace;background-color: #f0f8ff;border: 1px dotted black;border-radius: 0.25em;box-sizing: border-box;margin-bottom: 0.5em;}#sk-container-id-4 div.sk-estimator:hover {background-color: #d4ebff;}#sk-container-id-4 div.sk-parallel-item::after {content: \"\";width: 100%;border-bottom: 1px solid gray;flex-grow: 1;}#sk-container-id-4 div.sk-label:hover label.sk-toggleable__label {background-color: #d4ebff;}#sk-container-id-4 div.sk-serial::before {content: \"\";position: absolute;border-left: 1px solid gray;box-sizing: border-box;top: 0;bottom: 0;left: 50%;z-index: 0;}#sk-container-id-4 div.sk-serial {display: flex;flex-direction: column;align-items: center;background-color: white;padding-right: 0.2em;padding-left: 0.2em;position: relative;}#sk-container-id-4 div.sk-item {position: relative;z-index: 1;}#sk-container-id-4 div.sk-parallel {display: flex;align-items: stretch;justify-content: center;background-color: white;position: relative;}#sk-container-id-4 div.sk-item::before, #sk-container-id-4 div.sk-parallel-item::before {content: \"\";position: absolute;border-left: 1px solid gray;box-sizing: border-box;top: 0;bottom: 0;left: 50%;z-index: -1;}#sk-container-id-4 div.sk-parallel-item {display: flex;flex-direction: column;z-index: 1;position: relative;background-color: white;}#sk-container-id-4 div.sk-parallel-item:first-child::after {align-self: flex-end;width: 50%;}#sk-container-id-4 div.sk-parallel-item:last-child::after {align-self: flex-start;width: 50%;}#sk-container-id-4 div.sk-parallel-item:only-child::after {width: 0;}#sk-container-id-4 div.sk-dashed-wrapped {border: 1px dashed gray;margin: 0 0.4em 0.5em 0.4em;box-sizing: border-box;padding-bottom: 0.4em;background-color: white;}#sk-container-id-4 div.sk-label label {font-family: monospace;font-weight: bold;display: inline-block;line-height: 1.2em;}#sk-container-id-4 div.sk-label-container {text-align: center;}#sk-container-id-4 div.sk-container {/* jupyter's `normalize.less` sets `[hidden] { display: none; }` but bootstrap.min.css set `[hidden] { display: none !important; }` so we also need the `!important` here to be able to override the default hidden behavior on the sphinx rendered scikit-learn.org. See: https://github.com/scikit-learn/scikit-learn/issues/21755 */display: inline-block !important;position: relative;}#sk-container-id-4 div.sk-text-repr-fallback {display: none;}</style><div id=\"sk-container-id-4\" class=\"sk-top-container\"><div class=\"sk-text-repr-fallback\"><pre>XGBRegressor(base_score=None, booster=None, callbacks=None,\n",
       "             colsample_bylevel=None, colsample_bynode=None,\n",
       "             colsample_bytree=None, early_stopping_rounds=None,\n",
       "             enable_categorical=False, eval_metric=None, feature_types=None,\n",
       "             gamma=None, gpu_id=None, grow_policy=None, importance_type=None,\n",
       "             interaction_constraints=None, learning_rate=None, max_bin=None,\n",
       "             max_cat_threshold=None, max_cat_to_onehot=None,\n",
       "             max_delta_step=None, max_depth=None, max_leaves=None,\n",
       "             min_child_weight=None, missing=nan, monotone_constraints=None,\n",
       "             n_estimators=100, n_jobs=None, num_parallel_tree=None,\n",
       "             predictor=None, random_state=None, ...)</pre><b>In a Jupyter environment, please rerun this cell to show the HTML representation or trust the notebook. <br />On GitHub, the HTML representation is unable to render, please try loading this page with nbviewer.org.</b></div><div class=\"sk-container\" hidden><div class=\"sk-item\"><div class=\"sk-estimator sk-toggleable\"><input class=\"sk-toggleable__control sk-hidden--visually\" id=\"sk-estimator-id-4\" type=\"checkbox\" checked><label for=\"sk-estimator-id-4\" class=\"sk-toggleable__label sk-toggleable__label-arrow\">XGBRegressor</label><div class=\"sk-toggleable__content\"><pre>XGBRegressor(base_score=None, booster=None, callbacks=None,\n",
       "             colsample_bylevel=None, colsample_bynode=None,\n",
       "             colsample_bytree=None, early_stopping_rounds=None,\n",
       "             enable_categorical=False, eval_metric=None, feature_types=None,\n",
       "             gamma=None, gpu_id=None, grow_policy=None, importance_type=None,\n",
       "             interaction_constraints=None, learning_rate=None, max_bin=None,\n",
       "             max_cat_threshold=None, max_cat_to_onehot=None,\n",
       "             max_delta_step=None, max_depth=None, max_leaves=None,\n",
       "             min_child_weight=None, missing=nan, monotone_constraints=None,\n",
       "             n_estimators=100, n_jobs=None, num_parallel_tree=None,\n",
       "             predictor=None, random_state=None, ...)</pre></div></div></div></div></div>"
      ],
      "text/plain": [
       "XGBRegressor(base_score=None, booster=None, callbacks=None,\n",
       "             colsample_bylevel=None, colsample_bynode=None,\n",
       "             colsample_bytree=None, early_stopping_rounds=None,\n",
       "             enable_categorical=False, eval_metric=None, feature_types=None,\n",
       "             gamma=None, gpu_id=None, grow_policy=None, importance_type=None,\n",
       "             interaction_constraints=None, learning_rate=None, max_bin=None,\n",
       "             max_cat_threshold=None, max_cat_to_onehot=None,\n",
       "             max_delta_step=None, max_depth=None, max_leaves=None,\n",
       "             min_child_weight=None, missing=nan, monotone_constraints=None,\n",
       "             n_estimators=100, n_jobs=None, num_parallel_tree=None,\n",
       "             predictor=None, random_state=None, ...)"
      ]
     },
     "execution_count": 42,
     "metadata": {},
     "output_type": "execute_result"
    }
   ],
   "source": [
    "dt_model.fit(X_tree, y_train)\n",
    "rf_model.fit(X_tree, y_train)\n",
    "gb_model.fit(X_tree, y_train)\n",
    "xgb_model.fit(X_tree, y_train)"
   ]
  },
  {
   "cell_type": "code",
   "execution_count": 43,
   "metadata": {},
   "outputs": [
    {
     "name": "stderr",
     "output_type": "stream",
     "text": [
      "/home/kjee/.local/lib/python3.9/site-packages/sklearn/neural_network/_multilayer_perceptron.py:686: ConvergenceWarning: Stochastic Optimizer: Maximum iterations (200) reached and the optimization hasn't converged yet.\n",
      "  warnings.warn(\n"
     ]
    },
    {
     "data": {
      "text/html": [
       "<style>#sk-container-id-5 {color: black;background-color: white;}#sk-container-id-5 pre{padding: 0;}#sk-container-id-5 div.sk-toggleable {background-color: white;}#sk-container-id-5 label.sk-toggleable__label {cursor: pointer;display: block;width: 100%;margin-bottom: 0;padding: 0.3em;box-sizing: border-box;text-align: center;}#sk-container-id-5 label.sk-toggleable__label-arrow:before {content: \"▸\";float: left;margin-right: 0.25em;color: #696969;}#sk-container-id-5 label.sk-toggleable__label-arrow:hover:before {color: black;}#sk-container-id-5 div.sk-estimator:hover label.sk-toggleable__label-arrow:before {color: black;}#sk-container-id-5 div.sk-toggleable__content {max-height: 0;max-width: 0;overflow: hidden;text-align: left;background-color: #f0f8ff;}#sk-container-id-5 div.sk-toggleable__content pre {margin: 0.2em;color: black;border-radius: 0.25em;background-color: #f0f8ff;}#sk-container-id-5 input.sk-toggleable__control:checked~div.sk-toggleable__content {max-height: 200px;max-width: 100%;overflow: auto;}#sk-container-id-5 input.sk-toggleable__control:checked~label.sk-toggleable__label-arrow:before {content: \"▾\";}#sk-container-id-5 div.sk-estimator input.sk-toggleable__control:checked~label.sk-toggleable__label {background-color: #d4ebff;}#sk-container-id-5 div.sk-label input.sk-toggleable__control:checked~label.sk-toggleable__label {background-color: #d4ebff;}#sk-container-id-5 input.sk-hidden--visually {border: 0;clip: rect(1px 1px 1px 1px);clip: rect(1px, 1px, 1px, 1px);height: 1px;margin: -1px;overflow: hidden;padding: 0;position: absolute;width: 1px;}#sk-container-id-5 div.sk-estimator {font-family: monospace;background-color: #f0f8ff;border: 1px dotted black;border-radius: 0.25em;box-sizing: border-box;margin-bottom: 0.5em;}#sk-container-id-5 div.sk-estimator:hover {background-color: #d4ebff;}#sk-container-id-5 div.sk-parallel-item::after {content: \"\";width: 100%;border-bottom: 1px solid gray;flex-grow: 1;}#sk-container-id-5 div.sk-label:hover label.sk-toggleable__label {background-color: #d4ebff;}#sk-container-id-5 div.sk-serial::before {content: \"\";position: absolute;border-left: 1px solid gray;box-sizing: border-box;top: 0;bottom: 0;left: 50%;z-index: 0;}#sk-container-id-5 div.sk-serial {display: flex;flex-direction: column;align-items: center;background-color: white;padding-right: 0.2em;padding-left: 0.2em;position: relative;}#sk-container-id-5 div.sk-item {position: relative;z-index: 1;}#sk-container-id-5 div.sk-parallel {display: flex;align-items: stretch;justify-content: center;background-color: white;position: relative;}#sk-container-id-5 div.sk-item::before, #sk-container-id-5 div.sk-parallel-item::before {content: \"\";position: absolute;border-left: 1px solid gray;box-sizing: border-box;top: 0;bottom: 0;left: 50%;z-index: -1;}#sk-container-id-5 div.sk-parallel-item {display: flex;flex-direction: column;z-index: 1;position: relative;background-color: white;}#sk-container-id-5 div.sk-parallel-item:first-child::after {align-self: flex-end;width: 50%;}#sk-container-id-5 div.sk-parallel-item:last-child::after {align-self: flex-start;width: 50%;}#sk-container-id-5 div.sk-parallel-item:only-child::after {width: 0;}#sk-container-id-5 div.sk-dashed-wrapped {border: 1px dashed gray;margin: 0 0.4em 0.5em 0.4em;box-sizing: border-box;padding-bottom: 0.4em;background-color: white;}#sk-container-id-5 div.sk-label label {font-family: monospace;font-weight: bold;display: inline-block;line-height: 1.2em;}#sk-container-id-5 div.sk-label-container {text-align: center;}#sk-container-id-5 div.sk-container {/* jupyter's `normalize.less` sets `[hidden] { display: none; }` but bootstrap.min.css set `[hidden] { display: none !important; }` so we also need the `!important` here to be able to override the default hidden behavior on the sphinx rendered scikit-learn.org. See: https://github.com/scikit-learn/scikit-learn/issues/21755 */display: inline-block !important;position: relative;}#sk-container-id-5 div.sk-text-repr-fallback {display: none;}</style><div id=\"sk-container-id-5\" class=\"sk-top-container\"><div class=\"sk-text-repr-fallback\"><pre>MLPRegressor(random_state=42)</pre><b>In a Jupyter environment, please rerun this cell to show the HTML representation or trust the notebook. <br />On GitHub, the HTML representation is unable to render, please try loading this page with nbviewer.org.</b></div><div class=\"sk-container\" hidden><div class=\"sk-item\"><div class=\"sk-estimator sk-toggleable\"><input class=\"sk-toggleable__control sk-hidden--visually\" id=\"sk-estimator-id-5\" type=\"checkbox\" checked><label for=\"sk-estimator-id-5\" class=\"sk-toggleable__label sk-toggleable__label-arrow\">MLPRegressor</label><div class=\"sk-toggleable__content\"><pre>MLPRegressor(random_state=42)</pre></div></div></div></div></div>"
      ],
      "text/plain": [
       "MLPRegressor(random_state=42)"
      ]
     },
     "execution_count": 43,
     "metadata": {},
     "output_type": "execute_result"
    }
   ],
   "source": [
    "knn_model.fit(X_knn, y_train)\n",
    "ann_model.fit(X_knn, y_train)"
   ]
  },
  {
   "cell_type": "code",
   "execution_count": 58,
   "metadata": {},
   "outputs": [
    {
     "name": "stderr",
     "output_type": "stream",
     "text": [
      "/home/kjee/.local/lib/python3.9/site-packages/sklearn/base.py:439: UserWarning: X does not have valid feature names, but LinearRegression was fitted with feature names\n",
      "  warnings.warn(\n",
      "/home/kjee/.local/lib/python3.9/site-packages/sklearn/base.py:439: UserWarning: X does not have valid feature names, but Lasso was fitted with feature names\n",
      "  warnings.warn(\n",
      "/home/kjee/.local/lib/python3.9/site-packages/sklearn/base.py:439: UserWarning: X does not have valid feature names, but Ridge was fitted with feature names\n",
      "  warnings.warn(\n",
      "/home/kjee/.local/lib/python3.9/site-packages/sklearn/base.py:439: UserWarning: X does not have valid feature names, but ElasticNet was fitted with feature names\n",
      "  warnings.warn(\n",
      "/home/kjee/.local/lib/python3.9/site-packages/sklearn/base.py:439: UserWarning: X does not have valid feature names, but SVR was fitted with feature names\n",
      "  warnings.warn(\n"
     ]
    },
    {
     "name": "stdout",
     "output_type": "stream",
     "text": [
      "Linear Regression neg MSE: -9486983.107230384\n",
      "Lasso neg MSE: -9473722.822497066\n",
      "Ridge neg MSE: -9423037.259717682\n",
      "Elastic Net neg MSE: -21705902.42434961\n",
      "SVM neg MSE: -12890401.585838215\n",
      "Decision Tree neg MSE: -20355368.203504704\n"
     ]
    },
    {
     "name": "stderr",
     "output_type": "stream",
     "text": [
      "/home/kjee/.local/lib/python3.9/site-packages/sklearn/base.py:439: UserWarning: X does not have valid feature names, but DecisionTreeRegressor was fitted with feature names\n",
      "  warnings.warn(\n",
      "/home/kjee/.local/lib/python3.9/site-packages/sklearn/base.py:439: UserWarning: X does not have valid feature names, but RandomForestRegressor was fitted with feature names\n",
      "  warnings.warn(\n"
     ]
    },
    {
     "name": "stdout",
     "output_type": "stream",
     "text": [
      "Random Forest neg MSE: -10055282.719396153\n",
      "Gradient Boosting neg MSE: -9660802.37320467\n"
     ]
    },
    {
     "name": "stderr",
     "output_type": "stream",
     "text": [
      "/home/kjee/.local/lib/python3.9/site-packages/sklearn/base.py:439: UserWarning: X does not have valid feature names, but GradientBoostingRegressor was fitted with feature names\n",
      "  warnings.warn(\n"
     ]
    },
    {
     "name": "stdout",
     "output_type": "stream",
     "text": [
      "XGBoost neg MSE: -9233708.258971043\n"
     ]
    },
    {
     "name": "stderr",
     "output_type": "stream",
     "text": [
      "/home/kjee/.local/lib/python3.9/site-packages/sklearn/base.py:439: UserWarning: X does not have valid feature names, but KNeighborsRegressor was fitted with feature names\n",
      "  warnings.warn(\n"
     ]
    },
    {
     "name": "stdout",
     "output_type": "stream",
     "text": [
      "KNN neg MSE: -10115305.914568326\n"
     ]
    },
    {
     "name": "stderr",
     "output_type": "stream",
     "text": [
      "/home/kjee/.local/lib/python3.9/site-packages/sklearn/base.py:439: UserWarning: X does not have valid feature names, but MLPRegressor was fitted with feature names\n",
      "  warnings.warn(\n"
     ]
    },
    {
     "name": "stdout",
     "output_type": "stream",
     "text": [
      "ANN neg MSE: -8738596.030275686\n"
     ]
    }
   ],
   "source": [
    "from sklearn.metrics import mean_squared_error\n",
    "\n",
    "# Linear Regression\n",
    "y_pred_lr = model_lr.predict(x_test_reg.values)\n",
    "mse_lr = mean_squared_error(y_test, y_pred_lr)\n",
    "print(f\"Linear Regression neg MSE: {-mse_lr}\")\n",
    "\n",
    "# Lasso\n",
    "y_pred_lasso = lasso_model.predict(x_test_rr.values)\n",
    "mse_lasso = mean_squared_error(y_test, y_pred_lasso)\n",
    "print(f\"Lasso neg MSE: {-mse_lasso}\")\n",
    "\n",
    "# Ridge\n",
    "y_pred_ridge = ridge_model.predict(x_test_rr.values)\n",
    "mse_ridge = mean_squared_error(y_test, y_pred_ridge)\n",
    "print(f\"Ridge neg MSE: {-mse_ridge}\")\n",
    "\n",
    "# Elastic Net\n",
    "y_pred_en = en_model.predict(x_test_rr.values)\n",
    "mse_en = mean_squared_error(y_test, y_pred_en)\n",
    "print(f\"Elastic Net neg MSE: {-mse_en}\")\n",
    "\n",
    "# SVM\n",
    "y_pred_svm = svm_model.predict(x_test_rr.values)\n",
    "mse_svm = mean_squared_error(y_test, y_pred_svm)\n",
    "print(f\"SVM neg MSE: {-mse_svm}\")\n",
    "\n",
    "# Decision Tree\n",
    "y_pred_dt = dt_model.predict(x_test_Tree.values)\n",
    "mse_dt = mean_squared_error(y_test, y_pred_dt)\n",
    "print(f\"Decision Tree neg MSE: {-mse_dt}\")\n",
    "\n",
    "# Random Forest\n",
    "y_pred_rf = rf_model.predict(x_test_Tree.values)\n",
    "mse_rf = mean_squared_error(y_test, y_pred_rf)\n",
    "print(f\"Random Forest neg MSE: {-mse_rf}\")\n",
    "\n",
    "# Gradient Boosting\n",
    "y_pred_gb = gb_model.predict(x_test_Tree.values)\n",
    "mse_gb = mean_squared_error(y_test, y_pred_gb)\n",
    "print(f\"Gradient Boosting neg MSE: {-mse_gb}\")\n",
    "\n",
    "# XGBoost\n",
    "y_pred_xgb = xgb_model.predict(x_test_Tree.values)\n",
    "mse_xgb = mean_squared_error(y_test, y_pred_xgb)\n",
    "print(f\"XGBoost neg MSE: {-mse_xgb}\")\n",
    "\n",
    "# KNN\n",
    "y_pred_knn = knn_model.predict(x_test_knn.values)\n",
    "mse_knn = mean_squared_error(y_test, y_pred_knn)\n",
    "print(f\"KNN neg MSE: {-mse_knn}\")\n",
    "\n",
    "# ANN\n",
    "y_pred_ann = ann_model.predict(x_test_knn.values)\n",
    "mse_ann = mean_squared_error(y_test, y_pred_ann)\n",
    "print(f\"ANN neg MSE: {-mse_ann}\")"
   ]
  },
  {
   "cell_type": "code",
   "execution_count": null,
   "metadata": {},
   "outputs": [],
   "source": []
  }
 ],
 "metadata": {
  "interpreter": {
   "hash": "b3ba2566441a7c06988d0923437866b63cedc61552a5af99d1f4fb67d367b25f"
  },
  "kernelspec": {
   "display_name": "Python 3",
   "language": "python",
   "name": "python3"
  },
  "language_info": {
   "codemirror_mode": {
    "name": "ipython",
    "version": 3
   },
   "file_extension": ".py",
   "mimetype": "text/x-python",
   "name": "python",
   "nbconvert_exporter": "python",
   "pygments_lexer": "ipython3",
   "version": "3.9.5"
  }
 },
 "nbformat": 4,
 "nbformat_minor": 2
}
